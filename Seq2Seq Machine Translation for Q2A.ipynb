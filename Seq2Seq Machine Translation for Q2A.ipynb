{
 "cells": [
  {
   "cell_type": "markdown",
   "metadata": {},
   "source": [
    "## Seq2Seq Model\n",
    "\n",
    "基于序列到序列的翻译模型实现一个问答模型，即：问题到答案的翻译。"
   ]
  },
  {
   "cell_type": "markdown",
   "metadata": {},
   "source": [
    "### 数据集\n",
    "\n",
    "cMedQA2：中文医学问答的数据集的2.0版本，数据是匿名的，不包括任何个人信息。\n",
    "\n",
    "| DataSet | #Ques | #Ans | Ave. #words per Question |  Ave. #words per Answer| Ave. #characters per Question | Ave. #characters per Answer |\n",
    "| :-: | :-: | :-: | :-: | :-: | :-: | :-: |\n",
    "|Train|100,000|188,490|-|-|48|101|\n",
    "|Dev|4,000|7,527|-|-|49|101|\n",
    "|Test|4,000|7,552|-|-|49|100|\n",
    "|Total|108,000|203,569|-|-|49|101|\n",
    "\n",
    "* **questions.csv** ：全部的问题数据\n",
    "* **answers.csv** ：全部的答案数据   \n",
    "* **train_candidates.txt** 、 **test_candidates.txt** ：划分好的训练测试集"
   ]
  },
  {
   "cell_type": "code",
   "execution_count": 1,
   "metadata": {},
   "outputs": [],
   "source": [
    "import os\n",
    "import jieba\n",
    "import numpy as np\n",
    "import pandas as pd\n",
    "import tensorflow as tf\n",
    "import matplotlib.pyplot as plt\n",
    "import matplotlib.ticker as ticker\n",
    " \n",
    "os.environ['TF_CPP_MIN_LOG_LEVEL']='2' "
   ]
  },
  {
   "cell_type": "code",
   "execution_count": 2,
   "metadata": {},
   "outputs": [],
   "source": [
    "question_df = pd.read_csv('/home/wjh/DataSet/cMedQA2-master/question.csv')\n",
    "\n",
    "answer_df = pd.read_csv('/home/wjh/DataSet/cMedQA2-master/answer.csv')"
   ]
  },
  {
   "cell_type": "code",
   "execution_count": 3,
   "metadata": {},
   "outputs": [
    {
     "data": {
      "text/html": [
       "<div>\n",
       "<style scoped>\n",
       "    .dataframe tbody tr th:only-of-type {\n",
       "        vertical-align: middle;\n",
       "    }\n",
       "\n",
       "    .dataframe tbody tr th {\n",
       "        vertical-align: top;\n",
       "    }\n",
       "\n",
       "    .dataframe thead th {\n",
       "        text-align: right;\n",
       "    }\n",
       "</style>\n",
       "<table border=\"1\" class=\"dataframe\">\n",
       "  <thead>\n",
       "    <tr style=\"text-align: right;\">\n",
       "      <th></th>\n",
       "      <th>question_id</th>\n",
       "      <th>content</th>\n",
       "    </tr>\n",
       "  </thead>\n",
       "  <tbody>\n",
       "    <tr>\n",
       "      <th>0</th>\n",
       "      <td>65102009</td>\n",
       "      <td>头痛恶心肌肉痛关节痛颈部淋巴结疼痛怎么回事啊</td>\n",
       "    </tr>\n",
       "    <tr>\n",
       "      <th>1</th>\n",
       "      <td>44275784</td>\n",
       "      <td>我怀孕37周，肠子一直呼噜呼噜叫感觉像是在里面灌水，上厕所拉稀和喷水一样，一天上厕所5次，对...</td>\n",
       "    </tr>\n",
       "    <tr>\n",
       "      <th>2</th>\n",
       "      <td>42163349</td>\n",
       "      <td>男，67岁，2天前突然出现右小腿（类似抽筋症状），现出现右小腿消肿，有指压痕，无，请问可能是...</td>\n",
       "    </tr>\n",
       "    <tr>\n",
       "      <th>3</th>\n",
       "      <td>67935540</td>\n",
       "      <td>怀孕前两个月照了CT和X光，来两次月经后怀孕了，怀孕期间有轻微盆腔积水吃了两瓶杏香兔耳片。请...</td>\n",
       "    </tr>\n",
       "    <tr>\n",
       "      <th>4</th>\n",
       "      <td>33429289</td>\n",
       "      <td>阴囊湿冷阳痿早泻请问用点什么药</td>\n",
       "    </tr>\n",
       "  </tbody>\n",
       "</table>\n",
       "</div>"
      ],
      "text/plain": [
       "   question_id                                            content\n",
       "0     65102009                             头痛恶心肌肉痛关节痛颈部淋巴结疼痛怎么回事啊\n",
       "1     44275784  我怀孕37周，肠子一直呼噜呼噜叫感觉像是在里面灌水，上厕所拉稀和喷水一样，一天上厕所5次，对...\n",
       "2     42163349  男，67岁，2天前突然出现右小腿（类似抽筋症状），现出现右小腿消肿，有指压痕，无，请问可能是...\n",
       "3     67935540  怀孕前两个月照了CT和X光，来两次月经后怀孕了，怀孕期间有轻微盆腔积水吃了两瓶杏香兔耳片。请...\n",
       "4     33429289                                    阴囊湿冷阳痿早泻请问用点什么药"
      ]
     },
     "execution_count": 3,
     "metadata": {},
     "output_type": "execute_result"
    }
   ],
   "source": [
    "question_df.head()"
   ]
  },
  {
   "cell_type": "code",
   "execution_count": 4,
   "metadata": {},
   "outputs": [
    {
     "data": {
      "text/html": [
       "<div>\n",
       "<style scoped>\n",
       "    .dataframe tbody tr th:only-of-type {\n",
       "        vertical-align: middle;\n",
       "    }\n",
       "\n",
       "    .dataframe tbody tr th {\n",
       "        vertical-align: top;\n",
       "    }\n",
       "\n",
       "    .dataframe thead th {\n",
       "        text-align: right;\n",
       "    }\n",
       "</style>\n",
       "<table border=\"1\" class=\"dataframe\">\n",
       "  <thead>\n",
       "    <tr style=\"text-align: right;\">\n",
       "      <th></th>\n",
       "      <th>ans_id</th>\n",
       "      <th>question_id</th>\n",
       "      <th>content</th>\n",
       "    </tr>\n",
       "  </thead>\n",
       "  <tbody>\n",
       "    <tr>\n",
       "      <th>0</th>\n",
       "      <td>0</td>\n",
       "      <td>45619783</td>\n",
       "      <td>月经延迟十四天而且伴随恶心，头痛，乏力的现象，那么考虑怀孕的概率是非常大的，建议你去医院检查...</td>\n",
       "    </tr>\n",
       "    <tr>\n",
       "      <th>1</th>\n",
       "      <td>1</td>\n",
       "      <td>45619783</td>\n",
       "      <td>如果你的月经周期规律，有正常的性生活，未采取任何有效的避孕措施，此时的症状考虑有怀孕的可能。...</td>\n",
       "    </tr>\n",
       "    <tr>\n",
       "      <th>2</th>\n",
       "      <td>2</td>\n",
       "      <td>45619783</td>\n",
       "      <td>建议在性生活过后14天左右可以用怀孕试纸自我检测一下，一般怀孕试纸显示2条线的话是怀孕了的，...</td>\n",
       "    </tr>\n",
       "    <tr>\n",
       "      <th>3</th>\n",
       "      <td>3</td>\n",
       "      <td>26616465</td>\n",
       "      <td>头痛是临床上最为常见的临床症状之一，是人体对各种致痛因素所产生的主观感觉，属于疼痛的范畴。建...</td>\n",
       "    </tr>\n",
       "    <tr>\n",
       "      <th>4</th>\n",
       "      <td>4</td>\n",
       "      <td>26616465</td>\n",
       "      <td>头痛主要是由于头部的血管、神经、脑膜等对疼痛敏感的组织受到刺激引起的。由紧张、疲劳、饮酒等原...</td>\n",
       "    </tr>\n",
       "  </tbody>\n",
       "</table>\n",
       "</div>"
      ],
      "text/plain": [
       "   ans_id  question_id                                            content\n",
       "0       0     45619783  月经延迟十四天而且伴随恶心，头痛，乏力的现象，那么考虑怀孕的概率是非常大的，建议你去医院检查...\n",
       "1       1     45619783  如果你的月经周期规律，有正常的性生活，未采取任何有效的避孕措施，此时的症状考虑有怀孕的可能。...\n",
       "2       2     45619783  建议在性生活过后14天左右可以用怀孕试纸自我检测一下，一般怀孕试纸显示2条线的话是怀孕了的，...\n",
       "3       3     26616465  头痛是临床上最为常见的临床症状之一，是人体对各种致痛因素所产生的主观感觉，属于疼痛的范畴。建...\n",
       "4       4     26616465  头痛主要是由于头部的血管、神经、脑膜等对疼痛敏感的组织受到刺激引起的。由紧张、疲劳、饮酒等原..."
      ]
     },
     "execution_count": 4,
     "metadata": {},
     "output_type": "execute_result"
    }
   ],
   "source": [
    "answer_df.head()"
   ]
  },
  {
   "cell_type": "markdown",
   "metadata": {},
   "source": [
    "#### 数据预处理\n",
    "1. 对文本进行分词\n",
    "2. 添加开始和结束的token:`[START],[END]`\n",
    "3. 创建词到索引的的映射关系`word->id->word`\n",
    "    - 如果是不同语言之间的翻译要创建两套不同的映射关系\n",
    "    - 同一种语言的问答模型一组映射关系即可，但也可以使用两组\n",
    "4. 填充文本到固定的最大长度"
   ]
  },
  {
   "cell_type": "code",
   "execution_count": 5,
   "metadata": {},
   "outputs": [
    {
     "name": "stderr",
     "output_type": "stream",
     "text": [
      "Building prefix dict from the default dictionary ...\n",
      "Loading model from cache /tmp/jieba.cache\n",
      "Loading model cost 0.810 seconds.\n",
      "Prefix dict has been built successfully.\n"
     ]
    }
   ],
   "source": [
    "question_df['wordslist'] = question_df.content.apply(lambda x: list(jieba.cut(x)))\n",
    "\n",
    "question_df['wordlist'] = question_df.content.apply(lambda x: list(x))"
   ]
  },
  {
   "cell_type": "code",
   "execution_count": 6,
   "metadata": {},
   "outputs": [],
   "source": [
    "answer_df['wordslist'] = answer_df.content.apply(lambda x: list(jieba.cut(x)))\n",
    "\n",
    "answer_df['wordlist'] = answer_df.content.apply(lambda x: list(x))"
   ]
  },
  {
   "cell_type": "code",
   "execution_count": 7,
   "metadata": {},
   "outputs": [
    {
     "data": {
      "text/html": [
       "<div>\n",
       "<style scoped>\n",
       "    .dataframe tbody tr th:only-of-type {\n",
       "        vertical-align: middle;\n",
       "    }\n",
       "\n",
       "    .dataframe tbody tr th {\n",
       "        vertical-align: top;\n",
       "    }\n",
       "\n",
       "    .dataframe thead th {\n",
       "        text-align: right;\n",
       "    }\n",
       "</style>\n",
       "<table border=\"1\" class=\"dataframe\">\n",
       "  <thead>\n",
       "    <tr style=\"text-align: right;\">\n",
       "      <th></th>\n",
       "      <th>question_id</th>\n",
       "      <th>content</th>\n",
       "      <th>wordslist</th>\n",
       "      <th>wordlist</th>\n",
       "    </tr>\n",
       "  </thead>\n",
       "  <tbody>\n",
       "    <tr>\n",
       "      <th>0</th>\n",
       "      <td>65102009</td>\n",
       "      <td>头痛恶心肌肉痛关节痛颈部淋巴结疼痛怎么回事啊</td>\n",
       "      <td>[头痛, 恶心, 肌肉, 痛, 关节痛, 颈部, 淋巴结, 疼痛, 怎么回事, 啊]</td>\n",
       "      <td>[头, 痛, 恶, 心, 肌, 肉, 痛, 关, 节, 痛, 颈, 部, 淋, 巴, 结, ...</td>\n",
       "    </tr>\n",
       "    <tr>\n",
       "      <th>1</th>\n",
       "      <td>44275784</td>\n",
       "      <td>我怀孕37周，肠子一直呼噜呼噜叫感觉像是在里面灌水，上厕所拉稀和喷水一样，一天上厕所5次，对...</td>\n",
       "      <td>[我, 怀孕, 37, 周, ，, 肠子, 一直, 呼噜, 呼噜, 叫, 感觉, 像是, 在...</td>\n",
       "      <td>[我, 怀, 孕, 3, 7, 周, ，, 肠, 子, 一, 直, 呼, 噜, 呼, 噜, ...</td>\n",
       "    </tr>\n",
       "    <tr>\n",
       "      <th>2</th>\n",
       "      <td>42163349</td>\n",
       "      <td>男，67岁，2天前突然出现右小腿（类似抽筋症状），现出现右小腿消肿，有指压痕，无，请问可能是...</td>\n",
       "      <td>[男, ，, 67, 岁, ，, 2, 天前, 突然, 出现, 右小腿, （, 类似, 抽筋...</td>\n",
       "      <td>[男, ，, 6, 7, 岁, ，, 2, 天, 前, 突, 然, 出, 现, 右, 小, ...</td>\n",
       "    </tr>\n",
       "  </tbody>\n",
       "</table>\n",
       "</div>"
      ],
      "text/plain": [
       "   question_id                                            content  \\\n",
       "0     65102009                             头痛恶心肌肉痛关节痛颈部淋巴结疼痛怎么回事啊   \n",
       "1     44275784  我怀孕37周，肠子一直呼噜呼噜叫感觉像是在里面灌水，上厕所拉稀和喷水一样，一天上厕所5次，对...   \n",
       "2     42163349  男，67岁，2天前突然出现右小腿（类似抽筋症状），现出现右小腿消肿，有指压痕，无，请问可能是...   \n",
       "\n",
       "                                           wordslist  \\\n",
       "0         [头痛, 恶心, 肌肉, 痛, 关节痛, 颈部, 淋巴结, 疼痛, 怎么回事, 啊]   \n",
       "1  [我, 怀孕, 37, 周, ，, 肠子, 一直, 呼噜, 呼噜, 叫, 感觉, 像是, 在...   \n",
       "2  [男, ，, 67, 岁, ，, 2, 天前, 突然, 出现, 右小腿, （, 类似, 抽筋...   \n",
       "\n",
       "                                            wordlist  \n",
       "0  [头, 痛, 恶, 心, 肌, 肉, 痛, 关, 节, 痛, 颈, 部, 淋, 巴, 结, ...  \n",
       "1  [我, 怀, 孕, 3, 7, 周, ，, 肠, 子, 一, 直, 呼, 噜, 呼, 噜, ...  \n",
       "2  [男, ，, 6, 7, 岁, ，, 2, 天, 前, 突, 然, 出, 现, 右, 小, ...  "
      ]
     },
     "execution_count": 7,
     "metadata": {},
     "output_type": "execute_result"
    }
   ],
   "source": [
    "question_df.head(3)"
   ]
  },
  {
   "cell_type": "code",
   "execution_count": 8,
   "metadata": {
    "scrolled": true
   },
   "outputs": [
    {
     "data": {
      "text/html": [
       "<div>\n",
       "<style scoped>\n",
       "    .dataframe tbody tr th:only-of-type {\n",
       "        vertical-align: middle;\n",
       "    }\n",
       "\n",
       "    .dataframe tbody tr th {\n",
       "        vertical-align: top;\n",
       "    }\n",
       "\n",
       "    .dataframe thead th {\n",
       "        text-align: right;\n",
       "    }\n",
       "</style>\n",
       "<table border=\"1\" class=\"dataframe\">\n",
       "  <thead>\n",
       "    <tr style=\"text-align: right;\">\n",
       "      <th></th>\n",
       "      <th>ans_id</th>\n",
       "      <th>question_id</th>\n",
       "      <th>content</th>\n",
       "      <th>wordslist</th>\n",
       "      <th>wordlist</th>\n",
       "    </tr>\n",
       "  </thead>\n",
       "  <tbody>\n",
       "    <tr>\n",
       "      <th>0</th>\n",
       "      <td>0</td>\n",
       "      <td>45619783</td>\n",
       "      <td>月经延迟十四天而且伴随恶心，头痛，乏力的现象，那么考虑怀孕的概率是非常大的，建议你去医院检查...</td>\n",
       "      <td>[月经, 延迟, 十四天, 而且, 伴随, 恶心, ，, 头痛, ，, 乏力, 的, 现象,...</td>\n",
       "      <td>[月, 经, 延, 迟, 十, 四, 天, 而, 且, 伴, 随, 恶, 心, ，, 头, ...</td>\n",
       "    </tr>\n",
       "    <tr>\n",
       "      <th>1</th>\n",
       "      <td>1</td>\n",
       "      <td>45619783</td>\n",
       "      <td>如果你的月经周期规律，有正常的性生活，未采取任何有效的避孕措施，此时的症状考虑有怀孕的可能。...</td>\n",
       "      <td>[如果, 你, 的, 月经周期, 规律, ，, 有, 正常, 的, 性生活, ，, 未, 采...</td>\n",
       "      <td>[如, 果, 你, 的, 月, 经, 周, 期, 规, 律, ，, 有, 正, 常, 的, ...</td>\n",
       "    </tr>\n",
       "    <tr>\n",
       "      <th>2</th>\n",
       "      <td>2</td>\n",
       "      <td>45619783</td>\n",
       "      <td>建议在性生活过后14天左右可以用怀孕试纸自我检测一下，一般怀孕试纸显示2条线的话是怀孕了的，...</td>\n",
       "      <td>[建议, 在, 性生活, 过后, 14, 天, 左右, 可以, 用, 怀孕, 试纸, 自我,...</td>\n",
       "      <td>[建, 议, 在, 性, 生, 活, 过, 后, 1, 4, 天, 左, 右, 可, 以, ...</td>\n",
       "    </tr>\n",
       "  </tbody>\n",
       "</table>\n",
       "</div>"
      ],
      "text/plain": [
       "   ans_id  question_id                                            content  \\\n",
       "0       0     45619783  月经延迟十四天而且伴随恶心，头痛，乏力的现象，那么考虑怀孕的概率是非常大的，建议你去医院检查...   \n",
       "1       1     45619783  如果你的月经周期规律，有正常的性生活，未采取任何有效的避孕措施，此时的症状考虑有怀孕的可能。...   \n",
       "2       2     45619783  建议在性生活过后14天左右可以用怀孕试纸自我检测一下，一般怀孕试纸显示2条线的话是怀孕了的，...   \n",
       "\n",
       "                                           wordslist  \\\n",
       "0  [月经, 延迟, 十四天, 而且, 伴随, 恶心, ，, 头痛, ，, 乏力, 的, 现象,...   \n",
       "1  [如果, 你, 的, 月经周期, 规律, ，, 有, 正常, 的, 性生活, ，, 未, 采...   \n",
       "2  [建议, 在, 性生活, 过后, 14, 天, 左右, 可以, 用, 怀孕, 试纸, 自我,...   \n",
       "\n",
       "                                            wordlist  \n",
       "0  [月, 经, 延, 迟, 十, 四, 天, 而, 且, 伴, 随, 恶, 心, ，, 头, ...  \n",
       "1  [如, 果, 你, 的, 月, 经, 周, 期, 规, 律, ，, 有, 正, 常, 的, ...  \n",
       "2  [建, 议, 在, 性, 生, 活, 过, 后, 1, 4, 天, 左, 右, 可, 以, ...  "
      ]
     },
     "execution_count": 8,
     "metadata": {},
     "output_type": "execute_result"
    }
   ],
   "source": [
    "answer_df.head(3)"
   ]
  },
  {
   "cell_type": "markdown",
   "metadata": {},
   "source": [
    "问题词频统计："
   ]
  },
  {
   "cell_type": "code",
   "execution_count": 25,
   "metadata": {},
   "outputs": [],
   "source": [
    "qwords_counts = {}\n",
    "for q in question_df.wordslist:\n",
    "    for words in q:\n",
    "        if words in qwords_counts:\n",
    "            qwords_counts[words] += 1\n",
    "        else:\n",
    "            qwords_counts[words] = 0"
   ]
  },
  {
   "cell_type": "code",
   "execution_count": 31,
   "metadata": {},
   "outputs": [],
   "source": [
    "awords_counts = {}\n",
    "for a in answer_df.wordslist:\n",
    "    for words in a:\n",
    "        if words in awords_counts:\n",
    "            awords_counts[words] += 1\n",
    "        else:\n",
    "            awords_counts[words] = 0"
   ]
  },
  {
   "cell_type": "code",
   "execution_count": 33,
   "metadata": {},
   "outputs": [],
   "source": [
    "qwords_set = set([words for words in qwords_counts.keys()])\n",
    "awords_set = set([words for words in awords_counts.keys()])"
   ]
  },
  {
   "cell_type": "markdown",
   "metadata": {},
   "source": [
    "- len(qwords_counts), len(awords_counts): (60436, 82837)\n",
    "\n",
    "- len(qwords_set.intersection(awords_set)) : 32068"
   ]
  },
  {
   "cell_type": "markdown",
   "metadata": {},
   "source": [
    "划分训练和测试数据："
   ]
  },
  {
   "cell_type": "code",
   "execution_count": 9,
   "metadata": {},
   "outputs": [],
   "source": [
    "train_ids = pd.read_csv('/home/wjh/DataSet/cMedQA2-master/train_candidates.txt')\n",
    "\n",
    "test_ids = pd.read_csv('/home/wjh/DataSet/cMedQA2-master/test_candidates.txt')\n",
    "\n",
    "test_ids = test_ids.drop_duplicates('question_id')\n",
    "\n",
    "train_ids = train_ids.drop_duplicates('question_id')"
   ]
  },
  {
   "cell_type": "code",
   "execution_count": 10,
   "metadata": {},
   "outputs": [],
   "source": [
    "train_data = train_ids.merge(question_df[['question_id','wordslist']], on='question_id', how='left')\n",
    "\n",
    "train_data = train_data.merge(answer_df[['ans_id','wordslist']], left_on='pos_ans_id', right_on='ans_id')\n",
    "\n",
    "test_data = test_ids.merge(question_df[['question_id','wordslist']], on='question_id', how='left')\n",
    "\n",
    "test_data = test_data.merge(answer_df[['ans_id','wordslist']], on='ans_id', how='left')"
   ]
  },
  {
   "cell_type": "code",
   "execution_count": 92,
   "metadata": {},
   "outputs": [
    {
     "data": {
      "text/html": [
       "<div>\n",
       "<style scoped>\n",
       "    .dataframe tbody tr th:only-of-type {\n",
       "        vertical-align: middle;\n",
       "    }\n",
       "\n",
       "    .dataframe tbody tr th {\n",
       "        vertical-align: top;\n",
       "    }\n",
       "\n",
       "    .dataframe thead th {\n",
       "        text-align: right;\n",
       "    }\n",
       "</style>\n",
       "<table border=\"1\" class=\"dataframe\">\n",
       "  <thead>\n",
       "    <tr style=\"text-align: right;\">\n",
       "      <th></th>\n",
       "      <th>question_id</th>\n",
       "      <th>ans_id</th>\n",
       "      <th>cnt</th>\n",
       "      <th>label</th>\n",
       "      <th>wordslist_x</th>\n",
       "      <th>wordslist_y</th>\n",
       "    </tr>\n",
       "  </thead>\n",
       "  <tbody>\n",
       "    <tr>\n",
       "      <th>0</th>\n",
       "      <td>23423734</td>\n",
       "      <td>137315</td>\n",
       "      <td>0</td>\n",
       "      <td>1</td>\n",
       "      <td>[我, 的, 右脚, 外, 踝骨, 折, 一年, 多, ・, 平时, 有脚, 走路, 不敢,...</td>\n",
       "      <td>[你, 的, 情况, 考虑, 局部, 有, 炎症, 的, 可能性, 大, 一些, 。, 建议...</td>\n",
       "    </tr>\n",
       "    <tr>\n",
       "      <th>1</th>\n",
       "      <td>6469692</td>\n",
       "      <td>153600</td>\n",
       "      <td>0</td>\n",
       "      <td>1</td>\n",
       "      <td>[全部, 症状, ：, 手指, 关节, 不, 小心, 韧带, 扭伤, 现在, 关节, 肿大,...</td>\n",
       "      <td>[首先, 建议, 拍片, 看看, 是否是, 有, 骨折, 啊, 。, 如果, 没有, 骨折,...</td>\n",
       "    </tr>\n",
       "    <tr>\n",
       "      <th>2</th>\n",
       "      <td>4833968</td>\n",
       "      <td>51452</td>\n",
       "      <td>0</td>\n",
       "      <td>1</td>\n",
       "      <td>[请问, 一下, 脑袋, 疼, 的, 厉害, ，, 基本, 整个, 脑袋, 都, 疼, ，,...</td>\n",
       "      <td>[如果, 你, 有, 这方面, 的, 烦恼, ，, 请, 先到, 正规, 的, 医院, 诊断...</td>\n",
       "    </tr>\n",
       "  </tbody>\n",
       "</table>\n",
       "</div>"
      ],
      "text/plain": [
       "   question_id  ans_id  cnt  label  \\\n",
       "0     23423734  137315    0      1   \n",
       "1      6469692  153600    0      1   \n",
       "2      4833968   51452    0      1   \n",
       "\n",
       "                                         wordslist_x  \\\n",
       "0  [我, 的, 右脚, 外, 踝骨, 折, 一年, 多, ・, 平时, 有脚, 走路, 不敢,...   \n",
       "1  [全部, 症状, ：, 手指, 关节, 不, 小心, 韧带, 扭伤, 现在, 关节, 肿大,...   \n",
       "2  [请问, 一下, 脑袋, 疼, 的, 厉害, ，, 基本, 整个, 脑袋, 都, 疼, ，,...   \n",
       "\n",
       "                                         wordslist_y  \n",
       "0  [你, 的, 情况, 考虑, 局部, 有, 炎症, 的, 可能性, 大, 一些, 。, 建议...  \n",
       "1  [首先, 建议, 拍片, 看看, 是否是, 有, 骨折, 啊, 。, 如果, 没有, 骨折,...  \n",
       "2  [如果, 你, 有, 这方面, 的, 烦恼, ，, 请, 先到, 正规, 的, 医院, 诊断...  "
      ]
     },
     "execution_count": 92,
     "metadata": {},
     "output_type": "execute_result"
    }
   ],
   "source": [
    "test_data.head(3)"
   ]
  },
  {
   "cell_type": "code",
   "execution_count": 11,
   "metadata": {},
   "outputs": [],
   "source": [
    "train_qs = np.array([' '.join(wordslist) for wordslist in train_data.wordslist_x])\n",
    "\n",
    "train_as = np.array([' '.join(wordslist) for wordslist in train_data.wordslist_y])\n",
    "\n",
    "test_qs = np.array([' '.join(wordslist) for wordslist in test_data.wordslist_x])\n",
    "\n",
    "test_as = np.array([' '.join(wordslist) for wordslist in test_data.wordslist_y])"
   ]
  },
  {
   "cell_type": "code",
   "execution_count": 91,
   "metadata": {},
   "outputs": [
    {
     "data": {
      "text/plain": [
       "array(['你 的 情况 考虑 局部 有 炎症 的 可能性 大 一些 。 建议 服用 红 药片 ， 乙酰螺旋霉素 片 等 治疗 观察 。 必要 时 拍 X 线 明确 诊断 。',\n",
       "       '首先 建议 拍片 看看 是否是 有 骨折 啊 。 如果 没有 骨折 可能 是 软组织 伤 啊 。 建议 前 3 天 冷敷 。 3 天后 热敷 试试 。',\n",
       "       '如果 你 有 这方面 的 烦恼 ， 请 先到 正规 的 医院 诊断 ， 再 根据 医生 的 指导 进行 治疗 ， 切勿 自行 用药 。'],\n",
       "      dtype='<U402')"
      ]
     },
     "execution_count": 91,
     "metadata": {},
     "output_type": "execute_result"
    }
   ],
   "source": [
    "test_as[:3]"
   ]
  },
  {
   "cell_type": "code",
   "execution_count": 88,
   "metadata": {},
   "outputs": [],
   "source": [
    "question_seq_lengths = [len(qes) for qes in train_data.wordslist_x]\n",
    "answer_seq_lengths = [len(qes) for qes in train_data.wordslist_y]"
   ]
  },
  {
   "cell_type": "code",
   "execution_count": 97,
   "metadata": {},
   "outputs": [
    {
     "data": {
      "text/plain": [
       "<matplotlib.legend.Legend at 0x7f9f58173a90>"
      ]
     },
     "execution_count": 97,
     "metadata": {},
     "output_type": "execute_result"
    },
    {
     "data": {
      "image/png": "[encoded data removed]",
      "text/plain": [
       "<Figure size 1000x400 with 1 Axes>"
      ]
     },
     "metadata": {},
     "output_type": "display_data"
    }
   ],
   "source": [
    "plt.figure(figsize=(10, 4))\n",
    "_ = plt.hist(question_seq_lengths, label='Question')\n",
    "_ = plt.hist(answer_seq_lengths, alpha=0.5, label='Answer')\n",
    "plt.legend()"
   ]
  },
  {
   "cell_type": "markdown",
   "metadata": {},
   "source": [
    "创建tf.DataSet："
   ]
  },
  {
   "cell_type": "code",
   "execution_count": 12,
   "metadata": {},
   "outputs": [],
   "source": [
    "BUFFER_SIZE = len(train_qs)\n",
    "BATCH_SIZE = 64\n",
    "\n",
    "train_ds = (tf.data.Dataset\n",
    "              .from_tensor_slices((train_qs, train_as))\n",
    "              .shuffle(BUFFER_SIZE)\n",
    "              .batch(BATCH_SIZE))\n",
    "test_ds = (tf.data.Dataset\n",
    "             .from_tensor_slices((test_qs, test_as))\n",
    "             .shuffle(BUFFER_SIZE)\n",
    "             .batch(BATCH_SIZE))"
   ]
  },
  {
   "cell_type": "code",
   "execution_count": 13,
   "metadata": {},
   "outputs": [
    {
     "name": "stdout",
     "output_type": "stream",
     "text": [
      "腹中 有 痞块 要 做 哪些 检查\n",
      "\n",
      "女性 腹部 包块 主要 考虑 生殖系统 的 问题 （ 如 附件炎 、 卵巢囊肿 等 ） ， 首选 留尿后 B超 检查 ， 另外 还 应该 超声 检查 肝胆 、 双肾 等 。 总之 首选 B超 检查 ， 根据 医师 的 再进一步 做 其他 相关 的 辅助 检查 。 建议 及时 到 医院 就医 ， B超 后 遵 医嘱 做 相关 进一步 检查 。\n"
     ]
    }
   ],
   "source": [
    "for example_question_strings, example_answer_strings in train_ds.take(1):\n",
    "    print(example_question_strings[:1].numpy()[0].decode(\"UTF-8\",\"strict\"))\n",
    "    print()\n",
    "    print(example_answer_strings[:1].numpy()[0].decode(\"UTF-8\",\"strict\"))\n",
    "    break"
   ]
  },
  {
   "cell_type": "markdown",
   "metadata": {},
   "source": [
    "#### 创建文本向量化层\n",
    "\n",
    "- 构建词到索引的映射关系\n",
    "- 添加开始和结束符"
   ]
  },
  {
   "cell_type": "code",
   "execution_count": 14,
   "metadata": {},
   "outputs": [],
   "source": [
    "def add_start_end_token(text):\n",
    "    # Strip whitespace.\n",
    "    text = tf.strings.strip(text)\n",
    "    text = tf.strings.join(['[START]', text, '[END]'], separator=' ')\n",
    "    return text"
   ]
  },
  {
   "cell_type": "code",
   "execution_count": 15,
   "metadata": {},
   "outputs": [
    {
     "name": "stdout",
     "output_type": "stream",
     "text": [
      "女性 腹部 包块 主要 考虑 生殖系统 的 问题 （ 如 附件炎 、 卵巢囊肿 等 ） ， 首选 留尿后 B超 检查 ， 另外 还 应该 超声 检查 肝胆 、 双肾 等 。 总之 首选 B超 检查 ， 根据 医师 的 再进一步 做 其他 相关 的 辅助 检查 。 建议 及时 到 医院 就医 ， B超 后 遵 医嘱 做 相关 进一步 检查 。\n",
      "[START] 女性 腹部 包块 主要 考虑 生殖系统 的 问题 （ 如 附件炎 、 卵巢囊肿 等 ） ， 首选 留尿后 B超 检查 ， 另外 还 应该 超声 检查 肝胆 、 双肾 等 。 总之 首选 B超 检查 ， 根据 医师 的 再进一步 做 其他 相关 的 辅助 检查 。 建议 及时 到 医院 就医 ， B超 后 遵 医嘱 做 相关 进一步 检查 。 [END]\n"
     ]
    }
   ],
   "source": [
    "example_text = example_answer_strings[0]\n",
    "\n",
    "print(example_text.numpy().decode())\n",
    "print(add_start_end_token(example_text).numpy().decode())"
   ]
  },
  {
   "cell_type": "markdown",
   "metadata": {},
   "source": [
    "问题文本向量化："
   ]
  },
  {
   "cell_type": "code",
   "execution_count": 16,
   "metadata": {},
   "outputs": [],
   "source": [
    "question_vocab_size = 60436 \n",
    "question_max_length = 75\n",
    "\n",
    "question_vectorization_layer = tf.keras.layers.TextVectorization(\n",
    "                                standardize = add_start_end_token,\n",
    "                                max_tokens = question_vocab_size,\n",
    "                                output_mode = 'int',\n",
    "                                output_sequence_length = question_max_length)"
   ]
  },
  {
   "cell_type": "code",
   "execution_count": 17,
   "metadata": {},
   "outputs": [
    {
     "data": {
      "text/plain": [
       "['', '[UNK]', '，', '[START]', '[END]', '了', '的', '。', '？', '我']"
      ]
     },
     "execution_count": 17,
     "metadata": {},
     "output_type": "execute_result"
    }
   ],
   "source": [
    "question_vectorization_layer.adapt(train_ds.map(lambda question, answer: question))\n",
    "\n",
    "# the first 10 words from the question vocabulary:\n",
    "question_vectorization_layer.get_vocabulary()[:10]"
   ]
  },
  {
   "cell_type": "markdown",
   "metadata": {},
   "source": [
    "答案文本向量化:"
   ]
  },
  {
   "cell_type": "code",
   "execution_count": 18,
   "metadata": {},
   "outputs": [],
   "source": [
    "answer_vocab_size = 82837 \n",
    "answer_max_length = 125\n",
    "\n",
    "answer_vectorization_layer = tf.keras.layers.TextVectorization(\n",
    "                                standardize = add_start_end_token,\n",
    "                                max_tokens = answer_vocab_size,\n",
    "                                output_mode = 'int',\n",
    "                                output_sequence_length = answer_max_length)"
   ]
  },
  {
   "cell_type": "code",
   "execution_count": 19,
   "metadata": {},
   "outputs": [
    {
     "data": {
      "text/plain": [
       "['', '[UNK]', '，', '的', '。', '是', '[START]', '[END]', '、', '治疗']"
      ]
     },
     "execution_count": 19,
     "metadata": {},
     "output_type": "execute_result"
    }
   ],
   "source": [
    "answer_vectorization_layer.adapt(train_ds.map(lambda question, answer: answer))\n",
    "\n",
    "# the first 10 words from the question vocabulary:\n",
    "answer_vectorization_layer.get_vocabulary()[:10]"
   ]
  },
  {
   "cell_type": "markdown",
   "metadata": {},
   "source": [
    "文本的向量化层可以把文本从字符串，转化为对应的索引序列：\n",
    "- text $\\to$ tokens，填充字符的索引为：0，很容易转换为掩码。"
   ]
  },
  {
   "cell_type": "code",
   "execution_count": 20,
   "metadata": {},
   "outputs": [
    {
     "data": {
      "text/plain": [
       "<tf.Tensor: shape=(1, 75), dtype=int64, numpy=\n",
       "array([[    3,  6675,    11, 36101,    55,    24,   290,    18,     4,\n",
       "            0,     0,     0,     0,     0,     0,     0,     0,     0,\n",
       "            0,     0,     0,     0,     0,     0,     0,     0,     0,\n",
       "            0,     0,     0,     0,     0,     0,     0,     0,     0,\n",
       "            0,     0,     0,     0,     0,     0,     0,     0,     0,\n",
       "            0,     0,     0,     0,     0,     0,     0,     0,     0,\n",
       "            0,     0,     0,     0,     0,     0,     0,     0,     0,\n",
       "            0,     0,     0,     0,     0,     0,     0,     0,     0,\n",
       "            0,     0,     0]])>"
      ]
     },
     "execution_count": 20,
     "metadata": {},
     "output_type": "execute_result"
    }
   ],
   "source": [
    "example_tokens = question_vectorization_layer(example_question_strings)\n",
    "example_tokens[:1, :]"
   ]
  },
  {
   "cell_type": "markdown",
   "metadata": {},
   "source": [
    "tokens $\\to$ text"
   ]
  },
  {
   "cell_type": "code",
   "execution_count": 21,
   "metadata": {},
   "outputs": [
    {
     "data": {
      "text/plain": [
       "'[START] 腹中 有 痞块 要 做 哪些 检查 [END]                                                                  '"
      ]
     },
     "execution_count": 21,
     "metadata": {},
     "output_type": "execute_result"
    }
   ],
   "source": [
    "question_vocab = np.array(question_vectorization_layer.get_vocabulary())\n",
    "tokens = question_vocab[example_tokens[0].numpy()]\n",
    "' '.join(tokens)"
   ]
  },
  {
   "cell_type": "markdown",
   "metadata": {},
   "source": [
    "可视化Token"
   ]
  },
  {
   "cell_type": "code",
   "execution_count": 22,
   "metadata": {},
   "outputs": [
    {
     "data": {
      "text/plain": [
       "Text(0.5, 1.0, 'Mask')"
      ]
     },
     "execution_count": 22,
     "metadata": {},
     "output_type": "execute_result"
    },
    {
     "data": {
      "image/png": "[encoded data removed]",
      "text/plain": [
       "<Figure size 640x480 with 2 Axes>"
      ]
     },
     "metadata": {},
     "output_type": "display_data"
    }
   ],
   "source": [
    "plt.subplot(1, 2, 1)\n",
    "plt.pcolormesh(example_tokens.numpy())\n",
    "plt.title('Token IDs')\n",
    "\n",
    "plt.subplot(1, 2, 2)\n",
    "plt.pcolormesh(example_tokens.numpy() != 0)\n",
    "plt.title('Mask')"
   ]
  },
  {
   "cell_type": "markdown",
   "metadata": {},
   "source": [
    "#### 创建训练数据集\n",
    "\n",
    "创建喂给模型的数据格式，当前的数据格式为（question,answer)对，要转为((question, answer_in),answer_out)对。(question, answer_in)作为模型的输入，answer_out为模型的输出，也就是标签。answer_in 和 answer_out 之间的区别在于它们相对于彼此移动一个位置的索引，因此answer_out在每个位置的token索引都是answer_in的下一个token的索引。\n",
    "\n",
    "例如:\n",
    "- answer_in : 1, 2, 3, 4, 5\n",
    "- answer_out: 2, 3, 4, 5, 6"
   ]
  },
  {
   "cell_type": "code",
   "execution_count": 23,
   "metadata": {},
   "outputs": [],
   "source": [
    "def process_ds(question, answer):\n",
    "    question = question_vectorization_layer(question)\n",
    "    answer = answer_vectorization_layer(answer)\n",
    "    answer_in = answer[:,:-1]\n",
    "    answer_out = answer[:,1:]\n",
    "    return (question, answer_in), answer_out"
   ]
  },
  {
   "cell_type": "code",
   "execution_count": 24,
   "metadata": {},
   "outputs": [],
   "source": [
    "train_ds = train_ds.map(process_ds, tf.data.AUTOTUNE)\n",
    "test_ds = test_ds.map(process_ds, tf.data.AUTOTUNE)"
   ]
  },
  {
   "cell_type": "code",
   "execution_count": 25,
   "metadata": {},
   "outputs": [
    {
     "name": "stdout",
     "output_type": "stream",
     "text": [
      "Question : [    3   136   195 40116   391  6069    10   445    42     8]\n",
      "\n",
      "Answer_in: [    6   247    10   274     3    15   114   945   916 20158]\n",
      "Answer_out: [  247    10   274     3    15   114   945   916 20158  1406]\n"
     ]
    }
   ],
   "source": [
    "for (question_tok, answer_in), answer_out in train_ds.take(1):\n",
    "    print(\"Question :\", question_tok[0, :10].numpy()) \n",
    "    print()\n",
    "    print(\"Answer_in:\",answer_in[0, :10].numpy()) \n",
    "    print(\"Answer_out:\",answer_out[0, :10].numpy())"
   ]
  },
  {
   "cell_type": "markdown",
   "metadata": {},
   "source": [
    "### 编码器\n",
    "\n",
    " BRNN : bidirectional RNN\n",
    "- 通过文本向量化层，获取token（词）的索引序列。\n",
    "- 通过嵌入层查找每个token的嵌入向量。\n",
    "- 将转换后的词向量序列输入到BRNN中。\n",
    "- 返回处理后的序列，传递给注意力层。\n",
    "\n",
    "编码器的目标是将上下文序列处理为对解码器有用的向量序列，由于上下文序列是恒定的，因此对信息在编码器中的流动方式没有限制，因此使用双向RNN进行处理："
   ]
  },
  {
   "cell_type": "code",
   "execution_count": 351,
   "metadata": {},
   "outputs": [
    {
     "data": {
      "text/plain": [
       "64"
      ]
     },
     "execution_count": 351,
     "metadata": {},
     "output_type": "execute_result"
    }
   ],
   "source": [
    "tf.repeat(tf.expand_dims(tf.range(75),axis=0),repeats=64,axis=0).shape[0]"
   ]
  },
  {
   "cell_type": "code",
   "execution_count": 26,
   "metadata": {},
   "outputs": [],
   "source": [
    "class Encoder(tf.keras.layers.Layer):\n",
    "    def __init__(self, text_processor, units=256):\n",
    "        super(Encoder, self).__init__()\n",
    "        self.text_processor = text_processor\n",
    "        self.vocab_size = text_processor.vocabulary_size()\n",
    "        self.units = units\n",
    "\n",
    "        # The embedding layer converts tokens to vectors\n",
    "        self.embedding = tf.keras.layers.Embedding(self.vocab_size, units,\n",
    "                                                   mask_zero=True)\n",
    "\n",
    "        # The RNN layer processes those vectors sequentially.\n",
    "        self.rnn = tf.keras.layers.Bidirectional(merge_mode='sum',\n",
    "                                   layer=tf.keras.layers.GRU(units,\n",
    "                                   # Return the sequence and state\n",
    "                                   return_sequences=True,\n",
    "                                   recurrent_initializer='glorot_uniform'))\n",
    "\n",
    "    def call(self, x):\n",
    "        # looks up the embedding vector for each token.\n",
    "        x = self.embedding(x)\n",
    "        \n",
    "        # GRU processes the sequence of embeddings.\n",
    "        x = self.rnn(x)\n",
    "\n",
    "        # Returns the new sequence of embeddings.\n",
    "        return x\n",
    "\n",
    "    def convert_input(self, texts):\n",
    "        texts = tf.convert_to_tensor(texts)\n",
    "        if len(texts.shape) == 0:\n",
    "            texts = tf.convert_to_tensor(texts)[tf.newaxis]\n",
    "        tokens = self.text_processor(texts)\n",
    "        x = self(tokens)\n",
    "        return x"
   ]
  },
  {
   "cell_type": "code",
   "execution_count": 27,
   "metadata": {},
   "outputs": [
    {
     "name": "stdout",
     "output_type": "stream",
     "text": [
      "question tokens, shape (batch, s): (64, 75)\n",
      "Encoder output, shape (batch, s, units): (64, 75, 256)\n"
     ]
    }
   ],
   "source": [
    "# Encode the input sequence.\n",
    "encoder = Encoder(question_vectorization_layer)\n",
    "ex_question = encoder(question_tok)\n",
    "\n",
    "print(f'question tokens, shape (batch, s): {question_tok.shape}')\n",
    "print(f'Encoder output, shape (batch, s, units): {ex_question.shape}')"
   ]
  },
  {
   "cell_type": "markdown",
   "metadata": {},
   "source": [
    "#### 注意力层\n",
    "\n",
    "注意层允许解码器访问编码器提取的信息。它从整个上下文序列中计算得到一个向量，并将其添加到解码器的输出中。\n",
    "把整个序列中压缩为单个向量的最简单方法是取整个序列（层）的平均值。GlobalAveragePooling1D）。注意力层类似，但计算上下文序列中的加权平均值。其中权重是根据上下文和“查询”向量的组合计算的。"
   ]
  },
  {
   "cell_type": "code",
   "execution_count": 49,
   "metadata": {},
   "outputs": [],
   "source": [
    "class CrossAttention(tf.keras.layers.Layer):\n",
    "    def __init__(self, units=256, **kwargs):\n",
    "        super().__init__()\n",
    "        self.mha = tf.keras.layers.MultiHeadAttention(key_dim=units, num_heads=2, **kwargs)\n",
    "        self.layernorm = tf.keras.layers.LayerNormalization()\n",
    "        self.add = tf.keras.layers.Add()\n",
    "\n",
    "    def call(self, x, context):\n",
    "        attn_output, attn_scores = self.mha(query=x,value=context,\n",
    "                                            return_attention_scores=True)\n",
    "\n",
    "        # Cache the attention scores for plotting later.\n",
    "        attn_scores = tf.reduce_mean(attn_scores, axis=1)\n",
    "        self.last_attention_weights = attn_scores\n",
    "        x = self.add([x, attn_output])\n",
    "        x = self.layernorm(x)\n",
    "        return x"
   ]
  },
  {
   "cell_type": "code",
   "execution_count": 50,
   "metadata": {},
   "outputs": [
    {
     "name": "stdout",
     "output_type": "stream",
     "text": [
      "question sequence, shape (batch, s, units): (64, 75, 256)\n",
      "answer_in sequence, shape (batch, t, units): (64, 124, 256)\n",
      "Attention result, shape (batch, t, units): (64, 124, 256)\n",
      "Attention weights, shape (batch, t, s):    (64, 124, 75)\n"
     ]
    }
   ],
   "source": [
    "attention_layer = CrossAttention()\n",
    "\n",
    "# Attend to the encoded tokens\n",
    "embed = tf.keras.layers.Embedding(answer_vectorization_layer.vocabulary_size(),\n",
    "                                  output_dim=256, mask_zero=True)\n",
    "answer_embed = embed(answer_in)\n",
    "\n",
    "result = attention_layer(answer_embed, ex_question)\n",
    "\n",
    "print(f'question sequence, shape (batch, s, units): {ex_question.shape}')\n",
    "print(f'answer_in sequence, shape (batch, t, units): {answer_embed.shape}')\n",
    "print(f'Attention result, shape (batch, t, units): {result.shape}')\n",
    "print(f'Attention weights, shape (batch, t, s):    {attention_layer.last_attention_weights.shape}')"
   ]
  },
  {
   "cell_type": "markdown",
   "metadata": {},
   "source": [
    "可视化注意力矩阵"
   ]
  },
  {
   "cell_type": "code",
   "execution_count": 51,
   "metadata": {},
   "outputs": [
    {
     "data": {
      "image/png": "[encoded data removed]",
      "text/plain": [
       "<Figure size 640x480 with 2 Axes>"
      ]
     },
     "metadata": {},
     "output_type": "display_data"
    }
   ],
   "source": [
    "attention_weights = attention_layer.last_attention_weights\n",
    "mask=(question_tok != 0).numpy()\n",
    "\n",
    "plt.subplot(1, 2, 1)\n",
    "plt.pcolormesh(attention_weights[:, 0, :])\n",
    "plt.title('Attention weights')\n",
    "\n",
    "plt.subplot(1, 2, 2)\n",
    "plt.pcolormesh(mask)\n",
    "plt.title('Mask');"
   ]
  },
  {
   "cell_type": "markdown",
   "metadata": {},
   "source": [
    "由于小随机初始化，注意力权重最初都接近 1/（sequence_length）。 "
   ]
  },
  {
   "cell_type": "markdown",
   "metadata": {},
   "source": [
    "### 解码器\n",
    "\n",
    "解码器预测answer_in序列中每个位置的下一个token。\n",
    "\n",
    "\n",
    "- 通过嵌入层查询输入序列每个token的词嵌入向量。\n",
    "- 使用RNN来处理词向量序列。\n",
    "- 把RNN 输出作为注意力层的“查询”输入。\n",
    "- 输出预测目标序列每一个位置下一个token的概率分布。"
   ]
  },
  {
   "cell_type": "code",
   "execution_count": 52,
   "metadata": {},
   "outputs": [],
   "source": [
    "class Decoder(tf.keras.layers.Layer):\n",
    "    @classmethod\n",
    "    def add_method(cls, fun):\n",
    "        setattr(cls, fun.__name__, fun)\n",
    "        return fun\n",
    "\n",
    "    def __init__(self, text_processor, units=256):\n",
    "        super(Decoder, self).__init__()\n",
    "        self.text_processor = text_processor\n",
    "        self.vocab_size = text_processor.vocabulary_size()\n",
    "         \n",
    "        self.word_to_id = tf.keras.layers.StringLookup(vocabulary=text_processor.get_vocabulary(),\n",
    "                                                       mask_token='', oov_token='[UNK]')\n",
    "        self.id_to_word = tf.keras.layers.StringLookup(vocabulary=text_processor.get_vocabulary(),\n",
    "                                                       mask_token='', oov_token='[UNK]',\n",
    "                                                       invert=True)\n",
    "        self.start_token = self.word_to_id(np.array('[START]',dtype=np.str_))\n",
    "        self.end_token = self.word_to_id(np.array('[END]',dtype=np.str_))\n",
    "        self.units = units\n",
    "        # embedding layer converts token IDs to vectors\n",
    "        self.embedding = tf.keras.layers.Embedding(self.vocab_size,\n",
    "                                               units, mask_zero=True)\n",
    "    \n",
    "        # RNN keeps track of what's been generated so far.\n",
    "        self.rnn = tf.keras.layers.GRU(units,\n",
    "                                       return_sequences=True,\n",
    "                                       return_state=True,\n",
    "                                       recurrent_initializer='glorot_uniform')\n",
    "        # RNN output will be the query for the attention layer.\n",
    "        self.attention = CrossAttention(units)\n",
    "        # This fully connected layer produces the logits for each\n",
    "        # output token.\n",
    "        self.output_layer = tf.keras.layers.Dense(self.vocab_size)"
   ]
  },
  {
   "cell_type": "markdown",
   "metadata": {},
   "source": [
    "- context : question经过编码器后的输出结果\n",
    "- x : answer_in"
   ]
  },
  {
   "cell_type": "code",
   "execution_count": 53,
   "metadata": {},
   "outputs": [],
   "source": [
    "@Decoder.add_method\n",
    "def call(self,context, x, state=None, return_state=False):  \n",
    "    # Lookup the embeddings\n",
    "    x = self.embedding(x)\n",
    "    # Process the target sequence.\n",
    "    x, state = self.rnn(x, initial_state=state)\n",
    "    # Use the RNN output as the query for the attention over the context.\n",
    "    x = self.attention(x, context)\n",
    "    self.last_attention_weights = self.attention.last_attention_weights\n",
    "    # Generate logit predictions for the next token.\n",
    "    logits = self.output_layer(x)\n",
    "    if return_state:\n",
    "        return logits, state\n",
    "    else:\n",
    "        return logits"
   ]
  },
  {
   "cell_type": "code",
   "execution_count": 33,
   "metadata": {},
   "outputs": [
    {
     "name": "stdout",
     "output_type": "stream",
     "text": [
      "encoder output shape: (batch, s, units) (64, 75, 256)\n",
      "input answer_in tokens shape: (batch, t) (64, 124)\n",
      "logits shape shape: (batch, target_vocabulary_size) (64, 124, 59768)\n"
     ]
    }
   ],
   "source": [
    "decoder = Decoder(answer_vectorization_layer, units=256)\n",
    "\n",
    "logits = decoder(ex_question, answer_in)\n",
    "\n",
    "print(f'encoder output shape: (batch, s, units) {ex_question.shape}')\n",
    "print(f'input answer_in tokens shape: (batch, t) {answer_in.shape}')\n",
    "print(f'logits shape shape: (batch, target_vocabulary_size) {logits.shape}')"
   ]
  },
  {
   "cell_type": "markdown",
   "metadata": {},
   "source": [
    "#### 推理"
   ]
  },
  {
   "cell_type": "markdown",
   "metadata": {},
   "source": [
    "用start_toekn:`[START]`作为开始："
   ]
  },
  {
   "cell_type": "code",
   "execution_count": 54,
   "metadata": {},
   "outputs": [],
   "source": [
    "@Decoder.add_method\n",
    "def get_initial_state(self, context):\n",
    "    batch_size = tf.shape(context)[0]\n",
    "    start_tokens = tf.fill([batch_size, 1], self.start_token)\n",
    "    done = tf.zeros([batch_size, 1], dtype=tf.bool)\n",
    "    embedded = self.embedding(start_tokens)\n",
    "    return start_tokens, done, self.rnn.get_initial_state(embedded)[0]"
   ]
  },
  {
   "cell_type": "markdown",
   "metadata": {},
   "source": [
    "过滤填充字符："
   ]
  },
  {
   "cell_type": "code",
   "execution_count": 55,
   "metadata": {},
   "outputs": [],
   "source": [
    "@Decoder.add_method\n",
    "def tokens_to_text(self, tokens):\n",
    "    words = self.id_to_word(tokens)\n",
    "    result = tf.strings.reduce_join(words, axis=-1, separator=' ')\n",
    "    result = tf.strings.regex_replace(result, '\\[START\\]', '')\n",
    "    result = tf.strings.regex_replace(result, '\\[END\\]', '')\n",
    "    result = tf.strings.regex_replace(result, '\\[UNK\\]','')\n",
    "    return result"
   ]
  },
  {
   "cell_type": "markdown",
   "metadata": {},
   "source": [
    "通过采样得到下一个token："
   ]
  },
  {
   "cell_type": "code",
   "execution_count": 56,
   "metadata": {},
   "outputs": [],
   "source": [
    "@Decoder.add_method\n",
    "def get_next_token(self, context, next_token, done, state, temperature = 0.0):\n",
    "    logits, state = self(context, next_token, state = state, return_state=True) \n",
    "    if temperature == 0.0:\n",
    "        next_token = tf.argmax(logits, axis=-1)\n",
    "    else:\n",
    "        logits = logits[:, -1, :]/temperature\n",
    "        next_token = tf.random.categorical(logits, num_samples=1)\n",
    "    # If a sequence produces an `end_token`, set it `done`\n",
    "    done = done | (next_token == self.end_token)\n",
    "    # Once a sequence is done it only produces 0-padding.\n",
    "    next_token = tf.where(done, tf.constant(0, dtype=tf.int64), next_token)\n",
    "    return next_token, done, state"
   ]
  },
  {
   "cell_type": "markdown",
   "metadata": {},
   "source": [
    "同自回归的方式生成文本："
   ]
  },
  {
   "cell_type": "code",
   "execution_count": 37,
   "metadata": {
    "scrolled": true
   },
   "outputs": [
    {
     "name": "stdout",
     "output_type": "stream",
     "text": [
      "STII 缝里 需不需要 中如 葛根芩 眼下 主因 抗老 连子心 制\n",
      "主任 甲灭 力所不及 四分之三 四物汤 不齐 维酸钾 社会保障 木糖醇 食生\n",
      "深加工 股管 试服 袭击 妊高症 性寒味 今古 血要 泡发 中下旬\n",
      "先验 渠道 15mg 穹隆 骨密度 绿茶 些 唾腺 螃蟹 承受不住\n",
      "维一素 还会压 宗合 盘腿 归纳 鞭毛虫 心神 上移 平性 240\n"
     ]
    }
   ],
   "source": [
    "# Setup the loop variables.\n",
    "next_token, done, state = decoder.get_initial_state(ex_question)\n",
    "\n",
    "tokens = []\n",
    "\n",
    "for i in range(1, 11):\n",
    "    # Run one step.\n",
    "    next_token, done, state = decoder.get_next_token(ex_question, next_token, done, state, temperature=1.0)\n",
    "    # Add the token to the output.\n",
    "    tokens.append(next_token)\n",
    "# Stack all the tokens together.\n",
    "tokens = tf.concat(tokens, axis=-1) # (batch, t)\n",
    "# Convert the tokens back to a a string\n",
    "result = decoder.tokens_to_text(tokens)\n",
    "for _ in result.numpy()[:5]:\n",
    "    print(_.decode())"
   ]
  },
  {
   "cell_type": "markdown",
   "metadata": {},
   "source": [
    "### 构建模型\n",
    "\n",
    "- 编码器 + 注意力 + 解码器 $\\to$ 模型"
   ]
  },
  {
   "cell_type": "code",
   "execution_count": 57,
   "metadata": {},
   "outputs": [],
   "source": [
    "class Translator(tf.keras.Model):\n",
    "    @classmethod\n",
    "    def add_method(cls, fun):\n",
    "        setattr(cls, fun.__name__, fun)\n",
    "        return fun\n",
    "\n",
    "    def __init__(self, units, question_text_processor,\n",
    "                 answer_text_processor):\n",
    "        super().__init__()\n",
    "        # Build the encoder and decoder\n",
    "        encoder = Encoder(question_text_processor, units)\n",
    "        decoder = Decoder(answer_text_processor, units)\n",
    "\n",
    "        self.encoder = encoder\n",
    "        self.decoder = decoder\n",
    "\n",
    "    def call(self, inputs):\n",
    "        question, answer_in = inputs\n",
    "        question = self.encoder(question)\n",
    "        logits = self.decoder(question, answer_in)\n",
    "        #TODO(b/250038731): remove this\n",
    "        try:\n",
    "              # Delete the keras mask, so keras doesn't scale the loss+accuracy. \n",
    "            del logits._keras_mask\n",
    "        except AttributeError:\n",
    "            pass\n",
    "        return logits"
   ]
  },
  {
   "cell_type": "code",
   "execution_count": 58,
   "metadata": {},
   "outputs": [
    {
     "name": "stdout",
     "output_type": "stream",
     "text": [
      "Question tokens, shape: (batch, s, units) (64, 75)\n",
      "Answer_in tokens, shape: (batch, t) (64, 124)\n",
      "logits, shape: (batch, t, target_vocabulary_size) (64, 124, 59768)\n"
     ]
    }
   ],
   "source": [
    "model = Translator(256, question_vectorization_layer, answer_vectorization_layer)\n",
    "\n",
    "logits = model((question_tok, answer_in))\n",
    "\n",
    "print(f'Question tokens, shape: (batch, s, units) {question_tok.shape}')\n",
    "print(f'Answer_in tokens, shape: (batch, t) {answer_in.shape}')\n",
    "print(f'logits, shape: (batch, t, target_vocabulary_size) {logits.shape}')"
   ]
  },
  {
   "cell_type": "markdown",
   "metadata": {},
   "source": [
    "#### Loss和Metric"
   ]
  },
  {
   "cell_type": "code",
   "execution_count": 59,
   "metadata": {},
   "outputs": [],
   "source": [
    "def masked_loss(y_true, y_pred):\n",
    "    # Calculate the loss for each item in the batch.\n",
    "    loss_fn = tf.keras.losses.SparseCategoricalCrossentropy(\n",
    "                        from_logits=True, reduction='none')\n",
    "    loss = loss_fn(y_true, y_pred)\n",
    "    # Mask off the losses on padding.\n",
    "    mask = tf.cast(y_true != 0, loss.dtype)\n",
    "    loss *= mask\n",
    "    # Return the total.\n",
    "    return tf.reduce_sum(loss)/tf.reduce_sum(mask)"
   ]
  },
  {
   "cell_type": "code",
   "execution_count": 60,
   "metadata": {},
   "outputs": [],
   "source": [
    "def masked_acc(y_true, y_pred):\n",
    "    # Calculate the loss for each item in the batch.\n",
    "    y_pred = tf.argmax(y_pred, axis=-1)\n",
    "    y_pred = tf.cast(y_pred, y_true.dtype)\n",
    "    match = tf.cast(y_true == y_pred, tf.float32)\n",
    "    mask = tf.cast(y_true != 0, tf.float32)\n",
    "    return tf.reduce_sum(match)/tf.reduce_sum(mask)"
   ]
  },
  {
   "cell_type": "code",
   "execution_count": 61,
   "metadata": {},
   "outputs": [],
   "source": [
    "model.compile(optimizer='adam',\n",
    "              loss=masked_loss, \n",
    "              metrics=[masked_acc])"
   ]
  },
  {
   "cell_type": "markdown",
   "metadata": {},
   "source": [
    "当前模型是随机初始化的，会给出大致一致的输出概率。因此，Loss和Accuracy的初始值是："
   ]
  },
  {
   "cell_type": "code",
   "execution_count": 45,
   "metadata": {},
   "outputs": [
    {
     "data": {
      "text/plain": [
       "{'expected_loss': 10.998226, 'expected_acc': 1.67313612635524e-05}"
      ]
     },
     "execution_count": 45,
     "metadata": {},
     "output_type": "execute_result"
    }
   ],
   "source": [
    "vocab_size = 1.0 * answer_vectorization_layer.vocabulary_size()\n",
    "\n",
    "{\"expected_loss\": tf.math.log(vocab_size).numpy(),\n",
    " \"expected_acc\": 1/vocab_size}"
   ]
  },
  {
   "cell_type": "markdown",
   "metadata": {},
   "source": [
    "下面通过测试集验证如下："
   ]
  },
  {
   "cell_type": "code",
   "execution_count": 46,
   "metadata": {},
   "outputs": [
    {
     "name": "stdout",
     "output_type": "stream",
     "text": [
      "20/20 [==============================] - 10s 190ms/step - loss: 10.9970 - masked_acc: 1.2413e-05\n"
     ]
    },
    {
     "data": {
      "text/plain": [
       "{'loss': 10.996953964233398, 'masked_acc': 1.2413108379405458e-05}"
      ]
     },
     "execution_count": 46,
     "metadata": {},
     "output_type": "execute_result"
    }
   ],
   "source": [
    "model.evaluate(test_ds, steps=20, return_dict=True)"
   ]
  },
  {
   "cell_type": "code",
   "execution_count": 47,
   "metadata": {},
   "outputs": [
    {
     "name": "stdout",
     "output_type": "stream",
     "text": [
      "Model: \"translator_1\"\n",
      "_________________________________________________________________\n",
      "Layer (type)                 Output Shape              Param #   \n",
      "=================================================================\n",
      "encoder_1 (Encoder)          multiple                  14869760  \n",
      "_________________________________________________________________\n",
      "decoder_1 (Decoder)          multiple                  33159800  \n",
      "=================================================================\n",
      "Total params: 48,029,560\n",
      "Trainable params: 48,029,560\n",
      "Non-trainable params: 0\n",
      "_________________________________________________________________\n"
     ]
    }
   ],
   "source": [
    "model.summary()"
   ]
  },
  {
   "cell_type": "markdown",
   "metadata": {},
   "source": [
    "#### 训练模型"
   ]
  },
  {
   "cell_type": "code",
   "execution_count": 62,
   "metadata": {},
   "outputs": [
    {
     "name": "stdout",
     "output_type": "stream",
     "text": [
      "Epoch 1/100\n",
      "1000/1000 [==============================] - 317s 305ms/step - loss: 5.5534 - masked_acc: 0.1849 - val_loss: 4.3384 - val_masked_acc: 0.2744\n",
      "Epoch 2/100\n",
      "1000/1000 [==============================] - 302s 302ms/step - loss: 3.9044 - masked_acc: 0.3086 - val_loss: 3.7822 - val_masked_acc: 0.3286\n",
      "Epoch 3/100\n",
      "1000/1000 [==============================] - 303s 303ms/step - loss: 3.5184 - masked_acc: 0.3494 - val_loss: 3.4996 - val_masked_acc: 0.3641\n",
      "Epoch 4/100\n",
      "1000/1000 [==============================] - 302s 302ms/step - loss: 3.1584 - masked_acc: 0.3866 - val_loss: 3.4521 - val_masked_acc: 0.3790\n",
      "Epoch 5/100\n",
      "1000/1000 [==============================] - 303s 303ms/step - loss: 3.0122 - masked_acc: 0.4073 - val_loss: 3.3358 - val_masked_acc: 0.3981\n",
      "Epoch 6/100\n",
      "1000/1000 [==============================] - 302s 302ms/step - loss: 2.8398 - masked_acc: 0.4290 - val_loss: 3.3117 - val_masked_acc: 0.4101\n",
      "Epoch 7/100\n",
      "1000/1000 [==============================] - 303s 303ms/step - loss: 2.6473 - masked_acc: 0.4566 - val_loss: 3.4230 - val_masked_acc: 0.4038\n",
      "Epoch 8/100\n",
      "1000/1000 [==============================] - 303s 303ms/step - loss: 2.5828 - masked_acc: 0.4671 - val_loss: 3.3233 - val_masked_acc: 0.4208\n",
      "Epoch 9/100\n",
      "1000/1000 [==============================] - 301s 301ms/step - loss: 2.4191 - masked_acc: 0.4907 - val_loss: 3.3951 - val_masked_acc: 0.4155\n"
     ]
    }
   ],
   "source": [
    "history = model.fit(train_ds.repeat(), epochs=100,\n",
    "                    steps_per_epoch = 1000,\n",
    "                    validation_data = test_ds,\n",
    "                    validation_steps = 20,\n",
    "                    callbacks=[tf.keras.callbacks.EarlyStopping(patience=3)])"
   ]
  },
  {
   "cell_type": "code",
   "execution_count": 63,
   "metadata": {},
   "outputs": [
    {
     "data": {
      "text/plain": [
       "<matplotlib.legend.Legend at 0x7f9c806ccaf0>"
      ]
     },
     "execution_count": 63,
     "metadata": {},
     "output_type": "execute_result"
    },
    {
     "data": {
      "image/png": "[encoded data removed]",
      "text/plain": [
       "<Figure size 1200x400 with 2 Axes>"
      ]
     },
     "metadata": {},
     "output_type": "display_data"
    }
   ],
   "source": [
    "plt.figure(figsize=(12, 4))\n",
    "plt.subplot(1,2,1)\n",
    "plt.plot(history.history['loss'], label='loss')\n",
    "plt.plot(history.history['val_loss'], label='val_loss')\n",
    "plt.ylim([0, max(plt.ylim())])\n",
    "plt.xlabel('Epoch #')\n",
    "plt.ylabel('CE/token')\n",
    "plt.legend()\n",
    "plt.subplot(1,2,2)\n",
    "plt.plot(history.history['masked_acc'], label='accuracy')\n",
    "plt.plot(history.history['val_masked_acc'], label='val_accuracy')\n",
    "plt.ylim([0, max(plt.ylim())])\n",
    "plt.xlabel('Epoch #')\n",
    "plt.ylabel('CE/token')\n",
    "plt.legend()"
   ]
  },
  {
   "cell_type": "code",
   "execution_count": 64,
   "metadata": {},
   "outputs": [],
   "source": [
    "@Translator.add_method\n",
    "def translate(self, texts, *, max_length=125, temperature=0.0):\n",
    "    # Process the input texts\n",
    "    context = self.encoder.convert_input(texts)\n",
    "    batch_size = tf.shape(texts)[0]\n",
    "\n",
    "    # Setup the loop inputs\n",
    "    tokens = []\n",
    "    attention_weights = []\n",
    "    next_token, done, state = self.decoder.get_initial_state(context)\n",
    "\n",
    "    for _ in range(max_length):\n",
    "        # Generate the next token\n",
    "        next_token, done, state = self.decoder.get_next_token(context, next_token, done,  state, temperature)\n",
    "        # Collect the generated tokens\n",
    "        tokens.append(next_token)\n",
    "        attention_weights.append(self.decoder.last_attention_weights)\n",
    "\n",
    "        if tf.executing_eagerly() and tf.reduce_all(done):\n",
    "            break\n",
    "\n",
    "    # Stack the lists of tokens and attention weights.\n",
    "    tokens = tf.concat(tokens, axis=-1)   # t*[(batch 1)] -> (batch, t)\n",
    "    self.last_attention_weights = tf.concat(attention_weights, axis=1)  # t*[(batch 1 s)] -> (batch, t s)\n",
    "\n",
    "    result = self.decoder.tokens_to_text(tokens)\n",
    "    return result"
   ]
  },
  {
   "cell_type": "code",
   "execution_count": 65,
   "metadata": {},
   "outputs": [
    {
     "name": "stdout",
     "output_type": "stream",
     "text": [
      "头痛 恶心 肌肉 痛 关节痛 颈部 淋巴结 疼痛 怎么回事 啊\n"
     ]
    }
   ],
   "source": [
    "question_text = ' '.join(question_df.wordslist[0])\n",
    "print(question_text)"
   ]
  },
  {
   "cell_type": "code",
   "execution_count": 66,
   "metadata": {},
   "outputs": [
    {
     "data": {
      "text/plain": [
       "'你 的 症状 可能 是 感冒 引起 的 症状 ， 建议 你 可以 服用 感康 进行 治疗 ， 注意 休息 ， 多喝水 ， 注意 休息 ， 避免 劳累 ， 注意 保暖 ， 避免 着凉 感冒 '"
      ]
     },
     "execution_count": 66,
     "metadata": {},
     "output_type": "execute_result"
    }
   ],
   "source": [
    "result = model.translate([question_text]) # Are you still home\n",
    "result[0].numpy().decode()"
   ]
  },
  {
   "cell_type": "markdown",
   "metadata": {},
   "source": [
    "#### 可视化注意力矩阵"
   ]
  },
  {
   "cell_type": "code",
   "execution_count": 67,
   "metadata": {},
   "outputs": [],
   "source": [
    "import matplotlib\n",
    "matplotlib.rc(\"font\", family='DejaVu Serif')"
   ]
  },
  {
   "cell_type": "code",
   "execution_count": 68,
   "metadata": {},
   "outputs": [],
   "source": [
    "@Translator.add_method\n",
    "def plot_attention(self, text, **kwargs):\n",
    "    assert isinstance(text, str)\n",
    "    output = self.translate([text], **kwargs)\n",
    "    output = output[0].numpy().decode()\n",
    "\n",
    "    attention = self.last_attention_weights[0]\n",
    "\n",
    "    context = add_start_end_token(text)\n",
    "    context = context.numpy().decode().split()\n",
    "\n",
    "    output = add_start_end_token(output)\n",
    "    output = output.numpy().decode().split()[1:]\n",
    "\n",
    "    fig = plt.figure(figsize=(10, 10))\n",
    "    ax = fig.add_subplot(1, 1, 1)\n",
    "\n",
    "    ax.matshow(attention, cmap='viridis', vmin=0.0)\n",
    "\n",
    "    fontdict = {'fontsize': 14}\n",
    "\n",
    "    #ax.set_xticklabels([''] + context, fontdict=fontdict, rotation=90)\n",
    "    #ax.set_yticklabels([''] + output, fontdict=fontdict)\n",
    "\n",
    "    ax.xaxis.set_major_locator(ticker.MultipleLocator(1))\n",
    "    ax.yaxis.set_major_locator(ticker.MultipleLocator(1))\n",
    "\n",
    "    ax.set_xlabel('Input text')\n",
    "    ax.set_ylabel('Output text')"
   ]
  },
  {
   "cell_type": "code",
   "execution_count": 69,
   "metadata": {
    "scrolled": false
   },
   "outputs": [
    {
     "data": {
      "image/png": "[encoded data removed]",
      "text/plain": [
       "<Figure size 1000x1000 with 1 Axes>"
      ]
     },
     "metadata": {},
     "output_type": "display_data"
    }
   ],
   "source": [
    "model.plot_attention(question_text)"
   ]
  },
  {
   "cell_type": "code",
   "execution_count": 70,
   "metadata": {},
   "outputs": [
    {
     "name": "stdout",
     "output_type": "stream",
     "text": [
      "question : 一月 前 左手 肌腱 断掉 一个月 前 左手 内侧 血管 肌腱 断 了 在 回复 期间 大拇指 的 筋 又 断 了\n",
      "answer : 这个 情况 要 考虑 手术 的 ， 建议 你 可以 到 医院 骨科 就诊 ， 做 核磁共振 检查 \n"
     ]
    }
   ],
   "source": [
    "question_text = ' '.join(question_df.wordslist[112])\n",
    "print(\"question :\",question_text)\n",
    "result = model.translate([question_text]) # Are you still home\n",
    "result = result[0].numpy().decode()\n",
    "print(\"answer :\",result)"
   ]
  },
  {
   "cell_type": "code",
   "execution_count": 71,
   "metadata": {},
   "outputs": [
    {
     "data": {
      "image/png": "[encoded data removed]",
      "text/plain": [
       "<Figure size 1000x1000 with 1 Axes>"
      ]
     },
     "metadata": {},
     "output_type": "display_data"
    }
   ],
   "source": [
    "model.plot_attention(question_text)"
   ]
  },
  {
   "cell_type": "markdown",
   "metadata": {},
   "source": [
    "短句子通常效果很好，但如果输入太长，模型实际上会失去焦点并停止提供合理的预测。这主要有两个原因：\n",
    "\n",
    "1. 模型强制在每一步输入正确的令牌进行训练，而不管模型的预测如何。如果模型有时被输入自己的预测，它可以变得更加稳健。\n",
    "2. 该模型只能通过 RNN 状态访问其先前的输出。如果 RNN 状态失去了对它在上下文序列中的位置的跟踪，则模型无法恢复。"
   ]
  },
  {
   "cell_type": "markdown",
   "metadata": {},
   "source": [
    "#### 批处理"
   ]
  },
  {
   "cell_type": "code",
   "execution_count": 72,
   "metadata": {},
   "outputs": [],
   "source": [
    "inputs = [question_text, question_text, question_text]"
   ]
  },
  {
   "cell_type": "code",
   "execution_count": 73,
   "metadata": {},
   "outputs": [
    {
     "name": "stdout",
     "output_type": "stream",
     "text": [
      "这个 情况 要 考虑 手术 的 ， 建议 你 可以 到 医院 骨科 就诊 ， 做 核磁共振 检查 \n",
      "这个 情况 要 考虑 手术 的 ， 建议 你 可以 到 医院 骨科 就诊 ， 做 核磁共振 检查 \n",
      "这个 情况 要 考虑 手术 的 ， 建议 你 可以 到 医院 骨科 就诊 ， 做 核磁共振 检查 \n",
      "CPU times: user 5.73 s, sys: 112 ms, total: 5.84 s\n",
      "Wall time: 5.77 s\n"
     ]
    }
   ],
   "source": [
    "%%time\n",
    "for t in inputs:\n",
    "    print(model.translate([t])[0].numpy().decode())"
   ]
  },
  {
   "cell_type": "code",
   "execution_count": 266,
   "metadata": {},
   "outputs": [
    {
     "name": "stdout",
     "output_type": "stream",
     "text": [
      "你 的 情况 可能 是 由于 神经 压迫 神经 所致 的 ， 建议 你 可以 到 医院 做 一下 相关检查 ， 明确 后 再 治疗 。 \n",
      "你 的 情况 可能 是 由于 神经 压迫 神经 所致 的 ， 建议 你 可以 到 医院 做 一下 相关检查 ， 明确 后 再 治疗 。 \n",
      "你 的 情况 可能 是 由于 神经 压迫 神经 所致 的 ， 建议 你 可以 到 医院 做 一下 相关检查 ， 明确 后 再 治疗 。 \n",
      "CPU times: user 2.72 s, sys: 27.9 ms, total: 2.75 s\n",
      "Wall time: 2.72 s\n"
     ]
    }
   ],
   "source": [
    "%%time\n",
    "result = model.translate(inputs)\n",
    "\n",
    "print(result[0].numpy().decode())\n",
    "print(result[1].numpy().decode())\n",
    "print(result[2].numpy().decode())"
   ]
  },
  {
   "cell_type": "markdown",
   "metadata": {},
   "source": [
    "### 导出模型\n",
    "\n",
    "只保存Translate方法："
   ]
  },
  {
   "cell_type": "code",
   "execution_count": 267,
   "metadata": {},
   "outputs": [],
   "source": [
    "class Export(tf.Module):\n",
    "    def __init__(self, model):\n",
    "        self.model = model\n",
    "\n",
    "    @tf.function(input_signature=[tf.TensorSpec(dtype=tf.string, shape=[None])])\n",
    "    def translate(self, inputs):\n",
    "        return self.model.translate(inputs)"
   ]
  },
  {
   "cell_type": "code",
   "execution_count": 268,
   "metadata": {},
   "outputs": [],
   "source": [
    "export = Export(model)"
   ]
  },
  {
   "cell_type": "code",
   "execution_count": 270,
   "metadata": {},
   "outputs": [
    {
     "name": "stdout",
     "output_type": "stream",
     "text": [
      "CPU times: user 2min 18s, sys: 2.98 s, total: 2min 21s\n",
      "Wall time: 2min 21s\n"
     ]
    }
   ],
   "source": [
    "%%time\n",
    "# run for compile\n",
    "_ = export.translate(tf.constant(inputs))"
   ]
  },
  {
   "cell_type": "code",
   "execution_count": 271,
   "metadata": {},
   "outputs": [
    {
     "name": "stdout",
     "output_type": "stream",
     "text": [
      "你 的 情况 可能 是 由于 神经 压迫 神经 所致 的 ， 建议 你 可以 到 医院 做 一下 相关检查 ， 明确 后 再 治疗 。                                                                                                   \n",
      "你 的 情况 可能 是 由于 神经 压迫 神经 所致 的 ， 建议 你 可以 到 医院 做 一下 相关检查 ， 明确 后 再 治疗 。                                                                                                   \n",
      "你 的 情况 可能 是 由于 神经 压迫 神经 所致 的 ， 建议 你 可以 到 医院 做 一下 相关检查 ， 明确 后 再 治疗 。                                                                                                   \n",
      "\n",
      "CPU times: user 538 ms, sys: 70.7 ms, total: 609 ms\n",
      "Wall time: 519 ms\n"
     ]
    }
   ],
   "source": [
    "%%time\n",
    "result = export.translate(tf.constant(inputs))\n",
    "\n",
    "print(result[0].numpy().decode())\n",
    "print(result[1].numpy().decode())\n",
    "print(result[2].numpy().decode())\n",
    "print()"
   ]
  },
  {
   "cell_type": "markdown",
   "metadata": {},
   "source": [
    "#### 保存模型"
   ]
  },
  {
   "cell_type": "code",
   "execution_count": 272,
   "metadata": {},
   "outputs": [
    {
     "name": "stderr",
     "output_type": "stream",
     "text": [
      "WARNING:absl:Found untraced functions such as embedding_8_layer_call_fn, embedding_8_layer_call_and_return_conditional_losses, embedding_9_layer_call_fn, embedding_9_layer_call_and_return_conditional_losses, cross_attention_3_layer_call_fn while saving (showing 5 of 80). These functions will not be directly callable after loading.\n"
     ]
    },
    {
     "name": "stdout",
     "output_type": "stream",
     "text": [
      "INFO:tensorflow:Assets written to: translator/assets\n"
     ]
    },
    {
     "name": "stderr",
     "output_type": "stream",
     "text": [
      "INFO:tensorflow:Assets written to: translator/assets\n"
     ]
    },
    {
     "name": "stdout",
     "output_type": "stream",
     "text": [
      "CPU times: user 2min 38s, sys: 3.97 s, total: 2min 42s\n",
      "Wall time: 2min 41s\n"
     ]
    }
   ],
   "source": [
    "%%time\n",
    "tf.saved_model.save(export, 'translator',\n",
    "                    signatures={'serving_default': export.translate})"
   ]
  },
  {
   "cell_type": "markdown",
   "metadata": {},
   "source": [
    "#### 加载模型"
   ]
  },
  {
   "cell_type": "code",
   "execution_count": 273,
   "metadata": {},
   "outputs": [
    {
     "name": "stdout",
     "output_type": "stream",
     "text": [
      "CPU times: user 2min 7s, sys: 3.83 s, total: 2min 11s\n",
      "Wall time: 2min 11s\n"
     ]
    }
   ],
   "source": [
    "%%time\n",
    "reloaded = tf.saved_model.load('translator')\n",
    "_ = reloaded.translate(tf.constant(inputs)) #warmup"
   ]
  },
  {
   "cell_type": "code",
   "execution_count": 275,
   "metadata": {},
   "outputs": [
    {
     "name": "stdout",
     "output_type": "stream",
     "text": [
      "你 的 情况 可能 是 由于 神经 压迫 神经 所致 的 ， 建议 你 可以 到 医院 做 一下 相关检查 ， 明确 后 再 治疗 。                                                                                                   \n",
      "你 的 情况 可能 是 由于 神经 压迫 神经 所致 的 ， 建议 你 可以 到 医院 做 一下 相关检查 ， 明确 后 再 治疗 。                                                                                                   \n",
      "你 的 情况 可能 是 由于 神经 压迫 神经 所致 的 ， 建议 你 可以 到 医院 做 一下 相关检查 ， 明确 后 再 治疗 。                                                                                                   \n",
      "\n",
      "CPU times: user 541 ms, sys: 52 ms, total: 593 ms\n",
      "Wall time: 507 ms\n"
     ]
    }
   ],
   "source": [
    "%%time\n",
    "result = reloaded.translate(inputs)\n",
    "\n",
    "print(result[0].numpy().decode())\n",
    "print(result[1].numpy().decode())\n",
    "print(result[2].numpy().decode())\n",
    "print()"
   ]
  },
  {
   "cell_type": "markdown",
   "metadata": {},
   "source": [
    "### 优化\n",
    "\n",
    "更快的预测、保存和加载速度。"
   ]
  },
  {
   "cell_type": "markdown",
   "metadata": {},
   "source": [
    "当前的translate方法并不是最佳实现，缺点如下：\n",
    "1. 它制作循环体的副本。因此，生成的图形需要更长的时间来构建、保存和加载。\n",
    "2. 必须选择一个固定的max_length。\n",
    "3. tf.function 在每次调用上运行完整迭代，且只能在`eager execution`下工作，速度略慢。\n",
    "\n",
    "为了修复这些缺点，下面的方法使用了一个张量流循环，它看起来像一个python循环，但是当你使用张量作为循环的输入（或循环的条件）时，tf.function使用tf.while_loop等操作将其转换为动态循环。`max_length`只是以防万一模型卡住生成一个循环，例如：`1, 2, 1, 2, 1 ...`同时通过tf.TensorArray保存生成的token。"
   ]
  },
  {
   "cell_type": "code",
   "execution_count": 74,
   "metadata": {},
   "outputs": [],
   "source": [
    "import einops"
   ]
  },
  {
   "cell_type": "code",
   "execution_count": 75,
   "metadata": {},
   "outputs": [],
   "source": [
    "@Translator.add_method\n",
    "def translate(self, texts, *, max_length=125,\n",
    "              temperature=tf.constant(0.0)):\n",
    "   \n",
    "    context = self.encoder.convert_input(texts)\n",
    "    batch_size = tf.shape(context)[0]\n",
    "    next_token, done, state = self.decoder.get_initial_state(context)\n",
    "\n",
    "    # initialize the accumulator\n",
    "    tokens = tf.TensorArray(tf.int64, size=1, dynamic_size=True)\n",
    "\n",
    "    for t in tf.range(max_length):\n",
    "        # Generate the next token\n",
    "        next_token, done, state = self.decoder.get_next_token(\n",
    "                                    context, next_token, done, state, temperature)\n",
    "        # Collect the generated tokens\n",
    "        tokens = tokens.write(t, next_token)\n",
    "\n",
    "        # if all the sequences are done, break\n",
    "        if tf.reduce_all(done):\n",
    "            break\n",
    "\n",
    "    # Convert the list of generated token ids to a list of strings.\n",
    "    tokens = tokens.stack()\n",
    "    tokens = einops.rearrange(tokens, 't batch 1 -> batch t')\n",
    "    text = self.decoder.tokens_to_text(tokens)\n",
    "    return text"
   ]
  },
  {
   "cell_type": "code",
   "execution_count": 76,
   "metadata": {},
   "outputs": [
    {
     "name": "stdout",
     "output_type": "stream",
     "text": [
      "这个 情况 要 考虑 手术 的 ， 建议 你 可以 到 医院 骨科 就诊 ， 做 核磁共振 检查 \n",
      "这个 情况 要 考虑 手术 的 ， 建议 你 可以 到 医院 骨科 就诊 ， 做 核磁共振 检查 \n",
      "这个 情况 要 考虑 手术 的 ， 建议 你 可以 到 医院 骨科 就诊 ， 做 核磁共振 检查 \n",
      "\n",
      "CPU times: user 1.93 s, sys: 38 ms, total: 1.97 s\n",
      "Wall time: 1.94 s\n"
     ]
    }
   ],
   "source": [
    "%%time\n",
    "result = model.translate(inputs)\n",
    "\n",
    "print(result[0].numpy().decode())\n",
    "print(result[1].numpy().decode())\n",
    "print(result[2].numpy().decode())\n",
    "print()"
   ]
  },
  {
   "cell_type": "code",
   "execution_count": 83,
   "metadata": {},
   "outputs": [],
   "source": [
    "class Export(tf.Module):\n",
    "    def __init__(self, model):\n",
    "        self.model = model\n",
    "\n",
    "    @tf.function(input_signature=[tf.TensorSpec(dtype=tf.string, shape=[None])])\n",
    "    def translate(self, inputs):\n",
    "        return self.model.translate(inputs)"
   ]
  },
  {
   "cell_type": "code",
   "execution_count": 84,
   "metadata": {},
   "outputs": [],
   "source": [
    "export = Export(model)"
   ]
  },
  {
   "cell_type": "code",
   "execution_count": 85,
   "metadata": {},
   "outputs": [
    {
     "name": "stdout",
     "output_type": "stream",
     "text": [
      "CPU times: user 3.96 s, sys: 117 ms, total: 4.07 s\n",
      "Wall time: 4.03 s\n"
     ]
    }
   ],
   "source": [
    "%%time\n",
    "_ = export.translate(inputs)"
   ]
  },
  {
   "cell_type": "code",
   "execution_count": 86,
   "metadata": {},
   "outputs": [
    {
     "name": "stdout",
     "output_type": "stream",
     "text": [
      "这个 情况 要 考虑 手术 的 ， 建议 你 可以 到 医院 骨科 就诊 ， 做 核磁共振 检查 \n",
      "这个 情况 要 考虑 手术 的 ， 建议 你 可以 到 医院 骨科 就诊 ， 做 核磁共振 检查 \n",
      "这个 情况 要 考虑 手术 的 ， 建议 你 可以 到 医院 骨科 就诊 ， 做 核磁共振 检查 \n",
      "\n",
      "CPU times: user 132 ms, sys: 10.2 ms, total: 142 ms\n",
      "Wall time: 94.2 ms\n"
     ]
    }
   ],
   "source": [
    "%%time\n",
    "result = export.translate(inputs)\n",
    "\n",
    "print(result[0].numpy().decode())\n",
    "print(result[1].numpy().decode())\n",
    "print(result[2].numpy().decode())\n",
    "print()"
   ]
  },
  {
   "cell_type": "markdown",
   "metadata": {},
   "source": [
    "#### 保存和加载"
   ]
  },
  {
   "cell_type": "code",
   "execution_count": 89,
   "metadata": {},
   "outputs": [
    {
     "name": "stderr",
     "output_type": "stream",
     "text": [
      "WARNING:absl:Found untraced functions such as embedding_6_layer_call_and_return_conditional_losses, embedding_6_layer_call_fn, embedding_7_layer_call_and_return_conditional_losses, embedding_7_layer_call_fn, cross_attention_4_layer_call_and_return_conditional_losses while saving (showing 5 of 80). These functions will not be directly callable after loading.\n"
     ]
    },
    {
     "name": "stdout",
     "output_type": "stream",
     "text": [
      "INFO:tensorflow:Assets written to: dynamic_translator/assets\n"
     ]
    },
    {
     "name": "stderr",
     "output_type": "stream",
     "text": [
      "INFO:tensorflow:Assets written to: dynamic_translator/assets\n"
     ]
    },
    {
     "name": "stdout",
     "output_type": "stream",
     "text": [
      "CPU times: user 45 s, sys: 2.17 s, total: 47.1 s\n",
      "Wall time: 50.2 s\n"
     ]
    }
   ],
   "source": [
    "%%time\n",
    "tf.saved_model.save(export, 'dynamic_translator',\n",
    "                    signatures={'serving_default': export.translate})"
   ]
  },
  {
   "cell_type": "code",
   "execution_count": 90,
   "metadata": {},
   "outputs": [
    {
     "name": "stdout",
     "output_type": "stream",
     "text": [
      "CPU times: user 19.6 s, sys: 486 ms, total: 20.1 s\n",
      "Wall time: 20 s\n"
     ]
    }
   ],
   "source": [
    "%%time\n",
    "reloaded = tf.saved_model.load('dynamic_translator')\n",
    "_ = reloaded.translate(tf.constant(inputs)) #warmup"
   ]
  },
  {
   "cell_type": "code",
   "execution_count": 91,
   "metadata": {},
   "outputs": [
    {
     "name": "stdout",
     "output_type": "stream",
     "text": [
      "这个 情况 要 考虑 手术 的 ， 建议 你 可以 到 医院 骨科 就诊 ， 做 核磁共振 检查 \n",
      "这个 情况 要 考虑 手术 的 ， 建议 你 可以 到 医院 骨科 就诊 ， 做 核磁共振 检查 \n",
      "这个 情况 要 考虑 手术 的 ， 建议 你 可以 到 医院 骨科 就诊 ， 做 核磁共振 检查 \n",
      "\n",
      "CPU times: user 125 ms, sys: 21.7 ms, total: 147 ms\n",
      "Wall time: 105 ms\n"
     ]
    }
   ],
   "source": [
    "%%time\n",
    "result = reloaded.translate(tf.constant(inputs))\n",
    "\n",
    "print(result[0].numpy().decode())\n",
    "print(result[1].numpy().decode())\n",
    "print(result[2].numpy().decode())\n",
    "print()"
   ]
  },
  {
   "cell_type": "code",
   "execution_count": 87,
   "metadata": {},
   "outputs": [],
   "source": [
    "def answer_postprocess(answer):\n",
    "    words = answer.split(' ')\n",
    "    return ''.join(words)"
   ]
  },
  {
   "cell_type": "markdown",
   "metadata": {},
   "source": [
    "### Test"
   ]
  },
  {
   "cell_type": "code",
   "execution_count": 78,
   "metadata": {},
   "outputs": [],
   "source": [
    "import time"
   ]
  },
  {
   "cell_type": "code",
   "execution_count": 79,
   "metadata": {},
   "outputs": [],
   "source": [
    "def printer(text, delay=0.2):\n",
    "    \"\"\"打字机效果\"\"\"\n",
    "    \n",
    "    for i,ch in enumerate(text):\n",
    "        if (i+1)%35 == 0:\n",
    "            print('\\n')\n",
    "        else:\n",
    "            print(ch, end='', flush=True)\n",
    "            time.sleep(delay)"
   ]
  },
  {
   "cell_type": "code",
   "execution_count": 80,
   "metadata": {},
   "outputs": [],
   "source": [
    "sample_ques = question_df.sample(5)"
   ]
  },
  {
   "cell_type": "code",
   "execution_count": 81,
   "metadata": {},
   "outputs": [
    {
     "data": {
      "text/html": [
       "<div>\n",
       "<style scoped>\n",
       "    .dataframe tbody tr th:only-of-type {\n",
       "        vertical-align: middle;\n",
       "    }\n",
       "\n",
       "    .dataframe tbody tr th {\n",
       "        vertical-align: top;\n",
       "    }\n",
       "\n",
       "    .dataframe thead th {\n",
       "        text-align: right;\n",
       "    }\n",
       "</style>\n",
       "<table border=\"1\" class=\"dataframe\">\n",
       "  <thead>\n",
       "    <tr style=\"text-align: right;\">\n",
       "      <th></th>\n",
       "      <th>question_id</th>\n",
       "      <th>content</th>\n",
       "      <th>wordslist</th>\n",
       "      <th>wordlist</th>\n",
       "    </tr>\n",
       "  </thead>\n",
       "  <tbody>\n",
       "    <tr>\n",
       "      <th>102232</th>\n",
       "      <td>44821330</td>\n",
       "      <td>盆腔积液会引起腿麻么？最近两个月总是右腿麻走路都不敢使劲还右侧腰痛。因为例假不正常，所以看了...</td>\n",
       "      <td>[盆腔, 积液, 会, 引起, 腿, 麻, 么, ？, 最近, 两个, 月, 总是, 右腿,...</td>\n",
       "      <td>[盆, 腔, 积, 液, 会, 引, 起, 腿, 麻, 么, ？, 最, 近, 两, 个, ...</td>\n",
       "    </tr>\n",
       "    <tr>\n",
       "      <th>97676</th>\n",
       "      <td>34448561</td>\n",
       "      <td>排卵试纸检测线深什么意思中午1点排卵试纸检测线很深，对照线很模糊，请问现在同房还是晚上同房易...</td>\n",
       "      <td>[排卵, 试纸, 检测线, 深, 什么, 意思, 中午, 1, 点, 排卵, 试纸, 检测线...</td>\n",
       "      <td>[排, 卵, 试, 纸, 检, 测, 线, 深, 什, 么, 意, 思, 中, 午, 1, ...</td>\n",
       "    </tr>\n",
       "    <tr>\n",
       "      <th>11185</th>\n",
       "      <td>4314547</td>\n",
       "      <td>我男友患早泄，我们没有性生活。后来偶然遇见了现在的情人。情人的做爱招术有很多，我在满足的同时...</td>\n",
       "      <td>[我, 男友, 患, 早泄, ，, 我们, 没有, 性生活, 。, 后来, 偶然, 遇见, ...</td>\n",
       "      <td>[我, 男, 友, 患, 早, 泄, ，, 我, 们, 没, 有, 性, 生, 活, 。, ...</td>\n",
       "    </tr>\n",
       "    <tr>\n",
       "      <th>84085</th>\n",
       "      <td>15191663</td>\n",
       "      <td>晚上睡觉鼻子凉，早上起来又觉得热，请问是啥原因</td>\n",
       "      <td>[晚上, 睡觉, 鼻子, 凉, ，, 早上, 起来, 又, 觉得, 热, ，, 请问, 是,...</td>\n",
       "      <td>[晚, 上, 睡, 觉, 鼻, 子, 凉, ，, 早, 上, 起, 来, 又, 觉, 得, ...</td>\n",
       "    </tr>\n",
       "    <tr>\n",
       "      <th>93341</th>\n",
       "      <td>54703772</td>\n",
       "      <td>:我的月经是昨天干净的我明天能做性激素六项抽血检查吗？</td>\n",
       "      <td>[:, 我, 的, 月经, 是, 昨天, 干净, 的, 我, 明天, 能, 做, 性激素, ...</td>\n",
       "      <td>[:, 我, 的, 月, 经, 是, 昨, 天, 干, 净, 的, 我, 明, 天, 能, ...</td>\n",
       "    </tr>\n",
       "  </tbody>\n",
       "</table>\n",
       "</div>"
      ],
      "text/plain": [
       "        question_id                                            content  \\\n",
       "102232     44821330  盆腔积液会引起腿麻么？最近两个月总是右腿麻走路都不敢使劲还右侧腰痛。因为例假不正常，所以看了...   \n",
       "97676      34448561  排卵试纸检测线深什么意思中午1点排卵试纸检测线很深，对照线很模糊，请问现在同房还是晚上同房易...   \n",
       "11185       4314547  我男友患早泄，我们没有性生活。后来偶然遇见了现在的情人。情人的做爱招术有很多，我在满足的同时...   \n",
       "84085      15191663                            晚上睡觉鼻子凉，早上起来又觉得热，请问是啥原因   \n",
       "93341      54703772                        :我的月经是昨天干净的我明天能做性激素六项抽血检查吗？   \n",
       "\n",
       "                                                wordslist  \\\n",
       "102232  [盆腔, 积液, 会, 引起, 腿, 麻, 么, ？, 最近, 两个, 月, 总是, 右腿,...   \n",
       "97676   [排卵, 试纸, 检测线, 深, 什么, 意思, 中午, 1, 点, 排卵, 试纸, 检测线...   \n",
       "11185   [我, 男友, 患, 早泄, ，, 我们, 没有, 性生活, 。, 后来, 偶然, 遇见, ...   \n",
       "84085   [晚上, 睡觉, 鼻子, 凉, ，, 早上, 起来, 又, 觉得, 热, ，, 请问, 是,...   \n",
       "93341   [:, 我, 的, 月经, 是, 昨天, 干净, 的, 我, 明天, 能, 做, 性激素, ...   \n",
       "\n",
       "                                                 wordlist  \n",
       "102232  [盆, 腔, 积, 液, 会, 引, 起, 腿, 麻, 么, ？, 最, 近, 两, 个, ...  \n",
       "97676   [排, 卵, 试, 纸, 检, 测, 线, 深, 什, 么, 意, 思, 中, 午, 1, ...  \n",
       "11185   [我, 男, 友, 患, 早, 泄, ，, 我, 们, 没, 有, 性, 生, 活, 。, ...  \n",
       "84085   [晚, 上, 睡, 觉, 鼻, 子, 凉, ，, 早, 上, 起, 来, 又, 觉, 得, ...  \n",
       "93341   [:, 我, 的, 月, 经, 是, 昨, 天, 干, 净, 的, 我, 明, 天, 能, ...  "
      ]
     },
     "execution_count": 81,
     "metadata": {},
     "output_type": "execute_result"
    }
   ],
   "source": [
    "sample_ques"
   ]
  },
  {
   "cell_type": "code",
   "execution_count": 92,
   "metadata": {},
   "outputs": [
    {
     "name": "stdout",
     "output_type": "stream",
     "text": [
      "问： 盆腔积液会引起腿麻么？最近两个月总是右腿麻走路都不敢使劲还右侧\n",
      "\n",
      "痛。因为例假不正常，所以看了妇科检盆腔积液会引起腿麻么？最近两个月总\n",
      "\n",
      "右腿麻走路都不敢使劲还右侧腰痛。因为例假不正常，所以看了妇科检查是盆\n",
      "\n",
      "积液子宫内膜厚。这些会引起腿麻么？还是别的问题？\n",
      "\n",
      "\n",
      "答： 盆腔炎的治疗主要以抗炎为主，治疗主要是对症治疗，如盆腔炎、附件\n",
      "\n",
      "、盆腔炎等，建议你到正规医院妇科检查，查明病因，对症治疗。\n",
      "\n",
      "\n",
      "问： 排卵试纸检测线深什么意思中午1点排卵试纸检测线很深，对照线很模\n",
      "\n",
      "，请问现在同房还是晚上同房易怀孕，谢谢\n",
      "\n",
      "\n",
      "答： 排卵日期一般在下次月经来潮前的14天左右，下次月经来潮的第1天\n",
      "\n",
      "起，倒数14天或减去14天就是排卵日，排卵日及其前5天和后4天加在一\n",
      "\n",
      "称为排卵期。你的情况建议你最好是在排卵期同房，怀孕的可能性比较大。\n",
      "\n",
      "\n",
      "问： 我男友患早泄，我们没有性生活。后来偶然遇见了现在的情人。情人的\n",
      "\n",
      "爱招术有很多，我在满足的同时也很困惑…他常用他大大的那个在我乳沟里抽\n",
      "\n",
      "…还要我给他口*交，最后射精在我嘴里…调情的时候我出了好多水，他总是\n",
      "\n",
      "我舔…我们这样的性生活是不是有问题啊？对身体有伤害吗？\n",
      "\n",
      "\n",
      "答： 这个情况是不会的，不要担心，这个是不会的，不要担心\n",
      "\n",
      "\n",
      "问： 晚上睡觉鼻子凉，早上起来又觉得热，请问是啥原因\n",
      "\n",
      "\n",
      "答： 你的这种情况可能是由于受凉引起的鼻腔粘膜充血，或者是由于受凉引\n",
      "\n",
      "的，建议你可以服用一些风寒感冒冲剂，可以服用感康，元胡止痛片等进行治\n",
      "\n",
      "，注意休息，注意保暖，避免着凉，注意保暖，避免着凉，注意保暖，避免着\n",
      "\n",
      "\n",
      "\n",
      "\n",
      "问： :我的月经是昨天干净的我明天能做性激素六项抽血检查吗？\n",
      "\n",
      "\n",
      "答： 月经推迟一周是正常的，月经推迟一周是正常现象，一般月经推迟一周\n",
      "\n",
      "正常现象。你可以到药店买到医院看看，让医生看看，吃一点消炎药。\n",
      "\n",
      "\n"
     ]
    }
   ],
   "source": [
    "for question, text in zip(sample_ques.content, sample_ques.wordslist):\n",
    "    qtext = ' '.join(text)\n",
    "    printer(\"问： \"+question+'\\n', 0.05)\n",
    "    print('\\n')\n",
    "    answer = reloaded.translate([qtext])[0].numpy().decode()\n",
    "    answer = answer_postprocess(answer)\n",
    "    printer(\"答： \"+answer+'\\n',0.15)\n",
    "    print('\\n')"
   ]
  },
  {
   "cell_type": "code",
   "execution_count": null,
   "metadata": {},
   "outputs": [],
   "source": []
  },
  {
   "cell_type": "code",
   "execution_count": null,
   "metadata": {},
   "outputs": [],
   "source": []
  },
  {
   "cell_type": "code",
   "execution_count": null,
   "metadata": {},
   "outputs": [],
   "source": []
  },
  {
   "cell_type": "code",
   "execution_count": null,
   "metadata": {},
   "outputs": [],
   "source": []
  },
  {
   "cell_type": "code",
   "execution_count": null,
   "metadata": {},
   "outputs": [],
   "source": []
  },
  {
   "cell_type": "code",
   "execution_count": null,
   "metadata": {},
   "outputs": [],
   "source": []
  },
  {
   "cell_type": "code",
   "execution_count": null,
   "metadata": {},
   "outputs": [],
   "source": []
  },
  {
   "cell_type": "code",
   "execution_count": null,
   "metadata": {},
   "outputs": [],
   "source": []
  },
  {
   "cell_type": "code",
   "execution_count": null,
   "metadata": {},
   "outputs": [],
   "source": []
  },
  {
   "cell_type": "code",
   "execution_count": 342,
   "metadata": {},
   "outputs": [],
   "source": [
    "q = \"头疼闹热，浑身难受，四肢无力\""
   ]
  },
  {
   "cell_type": "code",
   "execution_count": 343,
   "metadata": {},
   "outputs": [
    {
     "data": {
      "text/plain": [
       "'头疼 闹热 ， 浑身 难受 ， 四肢无力'"
      ]
     },
     "execution_count": 343,
     "metadata": {},
     "output_type": "execute_result"
    }
   ],
   "source": [
    "text = ' '.join(jieba.cut(q))\n",
    "text"
   ]
  },
  {
   "cell_type": "code",
   "execution_count": 345,
   "metadata": {},
   "outputs": [],
   "source": [
    "answer = reloaded.translate([text])[0].numpy().decode()"
   ]
  },
  {
   "cell_type": "code",
   "execution_count": 346,
   "metadata": {},
   "outputs": [
    {
     "data": {
      "text/plain": [
       "'你的情况考虑是由于感冒引起的，建议你可以服用感康，VC银翘片，阿莫西林，尼美舒利治疗，多喝温开水，忌辛辣油腻食物，多吃蔬菜水果，多喝水，避免着凉。'"
      ]
     },
     "execution_count": 346,
     "metadata": {},
     "output_type": "execute_result"
    }
   ],
   "source": [
    "answer_postprocess(answer)"
   ]
  },
  {
   "cell_type": "code",
   "execution_count": null,
   "metadata": {},
   "outputs": [],
   "source": []
  },
  {
   "cell_type": "code",
   "execution_count": null,
   "metadata": {},
   "outputs": [],
   "source": []
  },
  {
   "cell_type": "code",
   "execution_count": null,
   "metadata": {},
   "outputs": [],
   "source": []
  },
  {
   "cell_type": "code",
   "execution_count": null,
   "metadata": {},
   "outputs": [],
   "source": []
  },
  {
   "cell_type": "code",
   "execution_count": null,
   "metadata": {},
   "outputs": [],
   "source": []
  },
  {
   "cell_type": "code",
   "execution_count": null,
   "metadata": {},
   "outputs": [],
   "source": []
  },
  {
   "cell_type": "code",
   "execution_count": null,
   "metadata": {},
   "outputs": [],
   "source": []
  },
  {
   "cell_type": "code",
   "execution_count": null,
   "metadata": {},
   "outputs": [],
   "source": []
  },
  {
   "cell_type": "code",
   "execution_count": null,
   "metadata": {},
   "outputs": [],
   "source": []
  },
  {
   "cell_type": "code",
   "execution_count": null,
   "metadata": {},
   "outputs": [],
   "source": []
  },
  {
   "cell_type": "code",
   "execution_count": null,
   "metadata": {},
   "outputs": [],
   "source": []
  },
  {
   "cell_type": "code",
   "execution_count": null,
   "metadata": {},
   "outputs": [],
   "source": []
  },
  {
   "cell_type": "code",
   "execution_count": null,
   "metadata": {},
   "outputs": [],
   "source": []
  },
  {
   "cell_type": "code",
   "execution_count": null,
   "metadata": {},
   "outputs": [],
   "source": []
  },
  {
   "cell_type": "code",
   "execution_count": null,
   "metadata": {},
   "outputs": [],
   "source": []
  },
  {
   "cell_type": "code",
   "execution_count": null,
   "metadata": {},
   "outputs": [],
   "source": []
  }
 ],
 "metadata": {
  "kernelspec": {
   "display_name": "Python [conda env:tf26]",
   "language": "python",
   "name": "conda-env-tf26-py"
  },
  "language_info": {
   "codemirror_mode": {
    "name": "ipython",
    "version": 3
   },
   "file_extension": ".py",
   "mimetype": "text/x-python",
   "name": "python",
   "nbconvert_exporter": "python",
   "pygments_lexer": "ipython3",
   "version": "3.9.13"
  }
 },
 "nbformat": 4,
 "nbformat_minor": 4
}
