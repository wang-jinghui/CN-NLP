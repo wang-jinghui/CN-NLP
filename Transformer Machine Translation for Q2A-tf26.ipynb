{
 "cells": [
  {
   "cell_type": "markdown",
   "metadata": {},
   "source": [
    "# Transformer Model\n",
    "\n",
    "基于Transformer架构的翻译模型训练一个问答模型，即：问题到答案的\"翻译\"。"
   ]
  },
  {
   "cell_type": "markdown",
   "metadata": {},
   "source": [
    "## 数据集\n",
    "\n",
    "cMedQA2：中文医学问答的数据集的2.0版本，数据是匿名的，不包括任何个人信息。\n",
    "\n",
    "| DataSet | #Ques | #Ans | Ave. #words per Question |  Ave. #words per Answer| Ave. #characters per Question | Ave. #characters per Answer |\n",
    "| :-: | :-: | :-: | :-: | :-: | :-: | :-: |\n",
    "|Train|100,000|188,490|-|-|48|101|\n",
    "|Dev|4,000|7,527|-|-|49|101|\n",
    "|Test|4,000|7,552|-|-|49|100|\n",
    "|Total|108,000|203,569|-|-|49|101|\n",
    "\n",
    "* **questions.csv** ：全部的问题数据\n",
    "* **answers.csv** ：全部的答案数据   \n",
    "* **train_candidates.txt** 、 **test_candidates.txt** ：划分好的训练测试集"
   ]
  },
  {
   "cell_type": "code",
   "execution_count": 1,
   "metadata": {},
   "outputs": [],
   "source": [
    "import os\n",
    "import time\n",
    "import jieba\n",
    "import numpy as np\n",
    "import pandas as pd\n",
    "import seaborn as sns\n",
    "import tensorflow as tf\n",
    "import matplotlib.pyplot as plt\n",
    "import matplotlib.ticker as ticker\n",
    " \n",
    "os.environ['TF_CPP_MIN_LOG_LEVEL']='2' "
   ]
  },
  {
   "cell_type": "markdown",
   "metadata": {},
   "source": [
    "### 数据预处理"
   ]
  },
  {
   "cell_type": "code",
   "execution_count": 2,
   "metadata": {},
   "outputs": [],
   "source": [
    "question_df = pd.read_csv('/home/wjh/DataSet/cMedQA2-master/question.csv')\n",
    "\n",
    "answer_df = pd.read_csv('/home/wjh/DataSet/cMedQA2-master/answer.csv')"
   ]
  },
  {
   "cell_type": "markdown",
   "metadata": {},
   "source": [
    "#### 结巴分词\n",
    "\n",
    "- wordslist : 以词为单位进行分词\n",
    "- wordlist : 以字为单位进行分词"
   ]
  },
  {
   "cell_type": "code",
   "execution_count": 3,
   "metadata": {},
   "outputs": [
    {
     "name": "stderr",
     "output_type": "stream",
     "text": [
      "Building prefix dict from the default dictionary ...\n",
      "Loading model from cache /tmp/jieba.cache\n",
      "Loading model cost 0.770 seconds.\n",
      "Prefix dict has been built successfully.\n"
     ]
    }
   ],
   "source": [
    "question_df['wordslist'] = question_df.content.apply(lambda x: list(jieba.cut(x)))\n",
    "\n",
    "question_df['wordlist'] = question_df.content.apply(lambda x: list(x))"
   ]
  },
  {
   "cell_type": "code",
   "execution_count": 4,
   "metadata": {},
   "outputs": [],
   "source": [
    "answer_df['wordslist'] = answer_df.content.apply(lambda x: list(jieba.cut(x)))\n",
    "\n",
    "answer_df['wordlist'] = answer_df.content.apply(lambda x: list(x))"
   ]
  },
  {
   "cell_type": "code",
   "execution_count": 5,
   "metadata": {},
   "outputs": [
    {
     "data": {
      "text/html": [
       "<div>\n",
       "<style scoped>\n",
       "    .dataframe tbody tr th:only-of-type {\n",
       "        vertical-align: middle;\n",
       "    }\n",
       "\n",
       "    .dataframe tbody tr th {\n",
       "        vertical-align: top;\n",
       "    }\n",
       "\n",
       "    .dataframe thead th {\n",
       "        text-align: right;\n",
       "    }\n",
       "</style>\n",
       "<table border=\"1\" class=\"dataframe\">\n",
       "  <thead>\n",
       "    <tr style=\"text-align: right;\">\n",
       "      <th></th>\n",
       "      <th>ans_id</th>\n",
       "      <th>question_id</th>\n",
       "      <th>content</th>\n",
       "      <th>wordslist</th>\n",
       "      <th>wordlist</th>\n",
       "    </tr>\n",
       "  </thead>\n",
       "  <tbody>\n",
       "    <tr>\n",
       "      <th>0</th>\n",
       "      <td>0</td>\n",
       "      <td>45619783</td>\n",
       "      <td>月经延迟十四天而且伴随恶心，头痛，乏力的现象，那么考虑怀孕的概率是非常大的，建议你去医院检查...</td>\n",
       "      <td>[月经, 延迟, 十四天, 而且, 伴随, 恶心, ，, 头痛, ，, 乏力, 的, 现象,...</td>\n",
       "      <td>[月, 经, 延, 迟, 十, 四, 天, 而, 且, 伴, 随, 恶, 心, ，, 头, ...</td>\n",
       "    </tr>\n",
       "    <tr>\n",
       "      <th>1</th>\n",
       "      <td>1</td>\n",
       "      <td>45619783</td>\n",
       "      <td>如果你的月经周期规律，有正常的性生活，未采取任何有效的避孕措施，此时的症状考虑有怀孕的可能。...</td>\n",
       "      <td>[如果, 你, 的, 月经周期, 规律, ，, 有, 正常, 的, 性生活, ，, 未, 采...</td>\n",
       "      <td>[如, 果, 你, 的, 月, 经, 周, 期, 规, 律, ，, 有, 正, 常, 的, ...</td>\n",
       "    </tr>\n",
       "    <tr>\n",
       "      <th>2</th>\n",
       "      <td>2</td>\n",
       "      <td>45619783</td>\n",
       "      <td>建议在性生活过后14天左右可以用怀孕试纸自我检测一下，一般怀孕试纸显示2条线的话是怀孕了的，...</td>\n",
       "      <td>[建议, 在, 性生活, 过后, 14, 天, 左右, 可以, 用, 怀孕, 试纸, 自我,...</td>\n",
       "      <td>[建, 议, 在, 性, 生, 活, 过, 后, 1, 4, 天, 左, 右, 可, 以, ...</td>\n",
       "    </tr>\n",
       "  </tbody>\n",
       "</table>\n",
       "</div>"
      ],
      "text/plain": [
       "   ans_id  question_id                                            content  \\\n",
       "0       0     45619783  月经延迟十四天而且伴随恶心，头痛，乏力的现象，那么考虑怀孕的概率是非常大的，建议你去医院检查...   \n",
       "1       1     45619783  如果你的月经周期规律，有正常的性生活，未采取任何有效的避孕措施，此时的症状考虑有怀孕的可能。...   \n",
       "2       2     45619783  建议在性生活过后14天左右可以用怀孕试纸自我检测一下，一般怀孕试纸显示2条线的话是怀孕了的，...   \n",
       "\n",
       "                                           wordslist  \\\n",
       "0  [月经, 延迟, 十四天, 而且, 伴随, 恶心, ，, 头痛, ，, 乏力, 的, 现象,...   \n",
       "1  [如果, 你, 的, 月经周期, 规律, ，, 有, 正常, 的, 性生活, ，, 未, 采...   \n",
       "2  [建议, 在, 性生活, 过后, 14, 天, 左右, 可以, 用, 怀孕, 试纸, 自我,...   \n",
       "\n",
       "                                            wordlist  \n",
       "0  [月, 经, 延, 迟, 十, 四, 天, 而, 且, 伴, 随, 恶, 心, ，, 头, ...  \n",
       "1  [如, 果, 你, 的, 月, 经, 周, 期, 规, 律, ，, 有, 正, 常, 的, ...  \n",
       "2  [建, 议, 在, 性, 生, 活, 过, 后, 1, 4, 天, 左, 右, 可, 以, ...  "
      ]
     },
     "execution_count": 5,
     "metadata": {},
     "output_type": "execute_result"
    }
   ],
   "source": [
    "answer_df.head(3)"
   ]
  },
  {
   "cell_type": "markdown",
   "metadata": {},
   "source": [
    "#### 划分数据\n",
    "\n",
    "- candidates.txt 里面划分的数据是一对多，一个问题有多个答案（消极、积极）"
   ]
  },
  {
   "cell_type": "code",
   "execution_count": 6,
   "metadata": {},
   "outputs": [],
   "source": [
    "train_ids = pd.read_csv('/home/wjh/DataSet/cMedQA2-master/train_candidates.txt')\n",
    "test_ids = pd.read_csv('/home/wjh/DataSet/cMedQA2-master/test_candidates.txt')\n",
    "test_ids = test_ids.drop_duplicates('question_id')\n",
    "train_ids = train_ids.drop_duplicates('question_id')"
   ]
  },
  {
   "cell_type": "code",
   "execution_count": 7,
   "metadata": {},
   "outputs": [],
   "source": [
    "train_data = train_ids.merge(question_df[['question_id','wordslist']], on='question_id', how='left')\n",
    "train_data = train_data.merge(answer_df[['ans_id','wordslist']], left_on='pos_ans_id', right_on='ans_id')\n",
    "test_data = test_ids.merge(question_df[['question_id','wordslist']], on='question_id', how='left')\n",
    "test_data = test_data.merge(answer_df[['ans_id','wordslist']], on='ans_id', how='left')"
   ]
  },
  {
   "cell_type": "code",
   "execution_count": 8,
   "metadata": {},
   "outputs": [
    {
     "data": {
      "text/html": [
       "<div>\n",
       "<style scoped>\n",
       "    .dataframe tbody tr th:only-of-type {\n",
       "        vertical-align: middle;\n",
       "    }\n",
       "\n",
       "    .dataframe tbody tr th {\n",
       "        vertical-align: top;\n",
       "    }\n",
       "\n",
       "    .dataframe thead th {\n",
       "        text-align: right;\n",
       "    }\n",
       "</style>\n",
       "<table border=\"1\" class=\"dataframe\">\n",
       "  <thead>\n",
       "    <tr style=\"text-align: right;\">\n",
       "      <th></th>\n",
       "      <th>question_id</th>\n",
       "      <th>ans_id</th>\n",
       "      <th>cnt</th>\n",
       "      <th>label</th>\n",
       "      <th>wordslist_x</th>\n",
       "      <th>wordslist_y</th>\n",
       "    </tr>\n",
       "  </thead>\n",
       "  <tbody>\n",
       "    <tr>\n",
       "      <th>0</th>\n",
       "      <td>23423734</td>\n",
       "      <td>137315</td>\n",
       "      <td>0</td>\n",
       "      <td>1</td>\n",
       "      <td>[我, 的, 右脚, 外, 踝骨, 折, 一年, 多, ・, 平时, 有脚, 走路, 不敢,...</td>\n",
       "      <td>[你, 的, 情况, 考虑, 局部, 有, 炎症, 的, 可能性, 大, 一些, 。, 建议...</td>\n",
       "    </tr>\n",
       "    <tr>\n",
       "      <th>1</th>\n",
       "      <td>6469692</td>\n",
       "      <td>153600</td>\n",
       "      <td>0</td>\n",
       "      <td>1</td>\n",
       "      <td>[全部, 症状, ：, 手指, 关节, 不, 小心, 韧带, 扭伤, 现在, 关节, 肿大,...</td>\n",
       "      <td>[首先, 建议, 拍片, 看看, 是否是, 有, 骨折, 啊, 。, 如果, 没有, 骨折,...</td>\n",
       "    </tr>\n",
       "    <tr>\n",
       "      <th>2</th>\n",
       "      <td>4833968</td>\n",
       "      <td>51452</td>\n",
       "      <td>0</td>\n",
       "      <td>1</td>\n",
       "      <td>[请问, 一下, 脑袋, 疼, 的, 厉害, ，, 基本, 整个, 脑袋, 都, 疼, ，,...</td>\n",
       "      <td>[如果, 你, 有, 这方面, 的, 烦恼, ，, 请, 先到, 正规, 的, 医院, 诊断...</td>\n",
       "    </tr>\n",
       "  </tbody>\n",
       "</table>\n",
       "</div>"
      ],
      "text/plain": [
       "   question_id  ans_id  cnt  label  \\\n",
       "0     23423734  137315    0      1   \n",
       "1      6469692  153600    0      1   \n",
       "2      4833968   51452    0      1   \n",
       "\n",
       "                                         wordslist_x  \\\n",
       "0  [我, 的, 右脚, 外, 踝骨, 折, 一年, 多, ・, 平时, 有脚, 走路, 不敢,...   \n",
       "1  [全部, 症状, ：, 手指, 关节, 不, 小心, 韧带, 扭伤, 现在, 关节, 肿大,...   \n",
       "2  [请问, 一下, 脑袋, 疼, 的, 厉害, ，, 基本, 整个, 脑袋, 都, 疼, ，,...   \n",
       "\n",
       "                                         wordslist_y  \n",
       "0  [你, 的, 情况, 考虑, 局部, 有, 炎症, 的, 可能性, 大, 一些, 。, 建议...  \n",
       "1  [首先, 建议, 拍片, 看看, 是否是, 有, 骨折, 啊, 。, 如果, 没有, 骨折,...  \n",
       "2  [如果, 你, 有, 这方面, 的, 烦恼, ，, 请, 先到, 正规, 的, 医院, 诊断...  "
      ]
     },
     "execution_count": 8,
     "metadata": {},
     "output_type": "execute_result"
    }
   ],
   "source": [
    "test_data.head(3)"
   ]
  },
  {
   "cell_type": "markdown",
   "metadata": {},
   "source": [
    "把分词后的结果拼接为字符串，空格分隔："
   ]
  },
  {
   "cell_type": "code",
   "execution_count": 9,
   "metadata": {},
   "outputs": [],
   "source": [
    "train_qs = np.array([' '.join(wordslist) for wordslist in train_data.wordslist_x])\n",
    "train_as = np.array([' '.join(wordslist) for wordslist in train_data.wordslist_y])\n",
    "\n",
    "test_qs = np.array([' '.join(wordslist) for wordslist in test_data.wordslist_x])\n",
    "test_as = np.array([' '.join(wordslist) for wordslist in test_data.wordslist_y])"
   ]
  },
  {
   "cell_type": "markdown",
   "metadata": {},
   "source": [
    "#### Tokenize\n",
    "\n",
    "分别对问题和答案的文本中的词汇进行标记，即：`words`$\\to$`token`。token就是一个整数，代表一个词在词汇表中的索引。"
   ]
  },
  {
   "cell_type": "markdown",
   "metadata": {},
   "source": [
    "给每个文本添加开始和结束标识符：`[START]`、`[END]`，这个没有固定格式可以自定义。"
   ]
  },
  {
   "cell_type": "code",
   "execution_count": 10,
   "metadata": {},
   "outputs": [],
   "source": [
    "def add_start_end_token(text):\n",
    "    # Strip whitespace.\n",
    "    text = tf.strings.strip(text)\n",
    "    text = tf.strings.join(['[START]', text, '[END]'], separator=' ')\n",
    "    return text"
   ]
  },
  {
   "cell_type": "markdown",
   "metadata": {},
   "source": [
    "文本向量化，即转换为token序列："
   ]
  },
  {
   "cell_type": "code",
   "execution_count": 11,
   "metadata": {},
   "outputs": [],
   "source": [
    "question_vocab_size = 60000\n",
    "question_max_length = 75     # 问题文本最大长度，不足补零\n",
    "\n",
    "question_vectorization = tf.keras.layers.TextVectorization(\n",
    "                                standardize = add_start_end_token,\n",
    "                                max_tokens = question_vocab_size,\n",
    "                                output_mode = 'int',\n",
    "                                output_sequence_length = question_max_length)\n",
    "# question vocabulary\n",
    "question_vectorization.adapt(train_qs)"
   ]
  },
  {
   "cell_type": "code",
   "execution_count": 12,
   "metadata": {},
   "outputs": [],
   "source": [
    "answer_vocab_size = 80000\n",
    "answer_max_length = 125\n",
    "\n",
    "answer_vectorization = tf.keras.layers.TextVectorization(\n",
    "                                standardize = add_start_end_token,\n",
    "                                max_tokens = answer_vocab_size,\n",
    "                                output_mode = 'int',\n",
    "                                output_sequence_length = answer_max_length)\n",
    "# answer vocabulary\n",
    "answer_vectorization.adapt(train_as)"
   ]
  },
  {
   "cell_type": "markdown",
   "metadata": {},
   "source": [
    "words$\\to$token，token$\\to$words"
   ]
  },
  {
   "cell_type": "code",
   "execution_count": 13,
   "metadata": {},
   "outputs": [
    {
     "name": "stdout",
     "output_type": "stream",
     "text": [
      "question :  不是 说 做 b 超对 宝宝 不好 吗 ？ 那 怀孕 检查 是 不 ？ 不是 说 做 b 超对 宝宝 不好 吗 ？ 那 怀孕 检查 是不是 越少 越 好 。 无 麻烦 解答 ， 谢谢 。\n",
      "\n",
      "\n",
      "question tokens : tf.Tensor(\n",
      "[    3   219    43    24   549 21794    31   189    12     8   301    14\n",
      "    18    10    17     8   219    43    24   549 21794    31   189    12\n",
      "     8   301    14    18    51 15436   959    30     7   150   909   382\n",
      "     2    94     7     4     0     0     0     0     0     0     0     0\n",
      "     0     0     0     0     0     0     0     0     0     0     0     0\n",
      "     0     0     0     0     0     0     0     0     0     0     0     0\n",
      "     0     0     0], shape=(75,), dtype=int64)\n"
     ]
    }
   ],
   "source": [
    "print(\"question : \",train_qs[0])\n",
    "print(\"\\n\")\n",
    "example_tokens = question_vectorization(train_qs[0])\n",
    "print(\"question tokens :\", example_tokens)"
   ]
  },
  {
   "cell_type": "code",
   "execution_count": 14,
   "metadata": {},
   "outputs": [
    {
     "data": {
      "text/plain": [
       "'[START] 不是 说 做 b 超对 宝宝 不好 吗 ？ 那 怀孕 检查 是 不 ？ 不是 说 做 b 超对 宝宝 不好 吗 ？ 那 怀孕 检查 是不是 越少 越 好 。 无 麻烦 解答 ， 谢谢 。 [END]                                   '"
      ]
     },
     "execution_count": 14,
     "metadata": {},
     "output_type": "execute_result"
    }
   ],
   "source": [
    "question_vocab = np.array(question_vectorization.get_vocabulary())\n",
    "example_words = question_vocab[example_tokens.numpy()]\n",
    "' '.join(example_words)"
   ]
  },
  {
   "cell_type": "markdown",
   "metadata": {},
   "source": [
    "#### 创建数据集\n",
    "\n",
    "把数据转换为适合训练的格式：((question, answer_in),answer_out)\n",
    "\n",
    "(question, answer_in)作为模型的输入，answer_out为模型的输出，也就是标签。answer_in 和 answer_out 之间的区别在于它们相对于彼此移动一个位置的索引，因此answer_out在每个位置的token都是answer_in的下一个的token。\n",
    "\n",
    "这个叫做`teacher forcing`,即：模型在每个时间步的输出，都是通过上一个时间步真实值作为输入。这是训练文本生成模型的一种简单有效的方法。它非常高效，因为您不需要按顺序运行模型，可以并行计算不同序列位置的输出。"
   ]
  },
  {
   "cell_type": "code",
   "execution_count": 15,
   "metadata": {},
   "outputs": [],
   "source": [
    "def prepare_batch(question, answer):\n",
    "    question = question_vectorization(question)\n",
    "    answer = answer_vectorization(answer)\n",
    "    answer_in = answer[:,:-1]          # Drop the [END] tokens\n",
    "    answer_out = answer[:,1:]          # Drop the [START] tokens\n",
    "    return (question, answer_in), answer_out"
   ]
  },
  {
   "cell_type": "code",
   "execution_count": 16,
   "metadata": {},
   "outputs": [],
   "source": [
    "BUFFER_SIZE = len(train_qs)\n",
    "BATCH_SIZE = 64\n",
    "\n",
    "train_ds = (tf.data.Dataset\n",
    "              .from_tensor_slices((train_qs, train_as))\n",
    "              .shuffle(BUFFER_SIZE)\n",
    "              .batch(BATCH_SIZE)\n",
    "              .map(prepare_batch, tf.data.AUTOTUNE)\n",
    "              .prefetch(buffer_size= tf.data.AUTOTUNE))"
   ]
  },
  {
   "cell_type": "code",
   "execution_count": 17,
   "metadata": {},
   "outputs": [],
   "source": [
    "test_ds = (tf.data.Dataset\n",
    "             .from_tensor_slices((test_qs, test_as))\n",
    "             .shuffle(len(test_qs))\n",
    "             .batch(BATCH_SIZE)\n",
    "             .map(prepare_batch, tf.data.AUTOTUNE)\n",
    "             .prefetch(buffer_size=tf.data.AUTOTUNE))"
   ]
  },
  {
   "cell_type": "code",
   "execution_count": 34,
   "metadata": {},
   "outputs": [
    {
     "name": "stdout",
     "output_type": "stream",
     "text": [
      "(64, 75)\n",
      "(64, 124)\n",
      "(64, 124)\n"
     ]
    }
   ],
   "source": [
    "for (question_toks, answer_in_toks), answer_out_toks in train_ds.take(1):\n",
    "    break\n",
    "\n",
    "print(question_toks.shape)\n",
    "print(answer_in_toks.shape)\n",
    "print(answer_out_toks.shape)"
   ]
  },
  {
   "cell_type": "code",
   "execution_count": 35,
   "metadata": {},
   "outputs": [
    {
     "name": "stdout",
     "output_type": "stream",
     "text": [
      "tf.Tensor([   3   14  892 2006    2  190  326  114 1010 1565], shape=(10,), dtype=int64)\n",
      "tf.Tensor([    6  1301  2411     2    19 20864   131     3   212    11], shape=(10,), dtype=int64)\n",
      "tf.Tensor([ 1301  2411     2    19 20864   131     3   212    11    64], shape=(10,), dtype=int64)\n"
     ]
    }
   ],
   "source": [
    "print(question_toks[0][:10])\n",
    "print(answer_in_toks[0][:10])\n",
    "print(answer_out_toks[0][:10])"
   ]
  },
  {
   "cell_type": "markdown",
   "metadata": {},
   "source": [
    "## 模块定义\n",
    "- 嵌入层\n",
    "- 注意力层\n",
    "- 前馈层"
   ]
  },
  {
   "cell_type": "markdown",
   "metadata": {},
   "source": [
    "### 位置嵌入\n",
    "\n",
    "&emsp;&emsp;嵌入层就是一个查询表，把token转换为对应的向量。注意力层将词向量输入视为一组向量，没有顺序，它需要某种方法来识别词序，否则它会将输入序列视为一袋单词实例，无法区分：how are you 、how you are、you how are。所以将“位置编码”添加到嵌入向量。 根据定义，附近的元素将具有类似的位置编码，位置编码方式有很多，下面是正弦余弦编码。\n",
    "\n",
    "位置编码的公式如下：\n",
    "\n",
    "$$\\Large{PE_{(pos, 2i)} = \\sin(pos / 10000^{2i / embed_{dim} })}$$\n",
    "\n",
    "$$\\Large{PE_{(pos, 2i+1)} = \\cos(pos / 10000^{2i / embed_{dim} })}$$"
   ]
  },
  {
   "cell_type": "code",
   "execution_count": 18,
   "metadata": {},
   "outputs": [],
   "source": [
    "def positional_encoding(length, embed_dim):\n",
    "    embed_dim = embed_dim/2\n",
    "\n",
    "    positions = np.arange(length)[:, np.newaxis]     # (seq, 1)\n",
    "    embed_dims = np.arange(embed_dim)[np.newaxis, :]/embed_dim   # (1, embed_dim)\n",
    "\n",
    "    angle_rates = 1 / (10000**embed_dims)                # (1, embed_dim)\n",
    "    angle_rads = positions * angle_rates                 # (pos, embed_dim)\n",
    "\n",
    "    pos_encoding = np.concatenate([np.sin(angle_rads), np.cos(angle_rads)],axis=-1) \n",
    "\n",
    "    return tf.cast(pos_encoding, dtype=tf.float32)"
   ]
  },
  {
   "cell_type": "markdown",
   "metadata": {},
   "source": [
    "可视化位置嵌入矩阵"
   ]
  },
  {
   "cell_type": "code",
   "execution_count": 91,
   "metadata": {},
   "outputs": [
    {
     "name": "stdout",
     "output_type": "stream",
     "text": [
      "(125, 128)\n"
     ]
    },
    {
     "data": {
      "text/plain": [
       "<AxesSubplot: >"
      ]
     },
     "execution_count": 91,
     "metadata": {},
     "output_type": "execute_result"
    },
    {
     "data": {
      "image/png": "[encoded data removed]",
      "text/plain": [
       "<Figure size 640x480 with 2 Axes>"
      ]
     },
     "metadata": {},
     "output_type": "display_data"
    }
   ],
   "source": [
    "pos_encoding = positional_encoding(length=125, embed_dim=128)\n",
    "\n",
    "# Check the shape.\n",
    "print(pos_encoding.shape)\n",
    "\n",
    "# Plot the dimensions.\n",
    "sns.heatmap(pos_encoding)"
   ]
  },
  {
   "cell_type": "markdown",
   "metadata": {},
   "source": [
    "#### 嵌入层\n",
    "\n",
    "words Embedding + position Embedding"
   ]
  },
  {
   "cell_type": "code",
   "execution_count": 19,
   "metadata": {},
   "outputs": [],
   "source": [
    "class Embedding(tf.keras.layers.Layer):\n",
    "    def __init__(self, vocab_size, seq_length=125, embed_dim=256):\n",
    "        super().__init__()\n",
    "        self.embed_dim = embed_dim\n",
    "        self.seq_length = seq_length\n",
    "        self.embedding = tf.keras.layers.Embedding(vocab_size, embed_dim, mask_zero=True) \n",
    "        self.pos_encoding = positional_encoding(seq_length, embed_dim)\n",
    "\n",
    "    def compute_mask(self, *args, **kwargs):\n",
    "        return self.embedding.compute_mask(*args, **kwargs)\n",
    "\n",
    "    def call(self, x):\n",
    "        length = tf.shape(x)[1]\n",
    "        x = self.embedding(x)\n",
    "        # This factor sets the relative scale of the embedding and positonal_encoding.\n",
    "        x *= tf.math.sqrt(tf.cast(self.embed_dim, tf.float32))\n",
    "        x = x + self.pos_encoding[tf.newaxis, :length, :]\n",
    "        return x"
   ]
  },
  {
   "cell_type": "code",
   "execution_count": 36,
   "metadata": {},
   "outputs": [
    {
     "data": {
      "text/plain": [
       "(55001, 59768)"
      ]
     },
     "execution_count": 36,
     "metadata": {},
     "output_type": "execute_result"
    }
   ],
   "source": [
    "q_vocab_size = len(question_vectorization.get_vocabulary())\n",
    "a_vocab_size = len(answer_vectorization.get_vocabulary())\n",
    "q_vocab_size, a_vocab_size"
   ]
  },
  {
   "cell_type": "code",
   "execution_count": 37,
   "metadata": {},
   "outputs": [
    {
     "data": {
      "text/plain": [
       "<tf.Tensor: shape=(75,), dtype=int64, numpy=\n",
       "array([    3,    14,   892,  2006,     2,   190,   326,   114,  1010,\n",
       "        1565,     2,   761,     8,    14,   892,  2006,     2,   190,\n",
       "         326,   114,  1010,  1565,     2,   761,  3479, 18038, 37298,\n",
       "           2,    17,    59, 47604,    12,     7,   150,     4,     0,\n",
       "           0,     0,     0,     0,     0,     0,     0,     0,     0,\n",
       "           0,     0,     0,     0,     0,     0,     0,     0,     0,\n",
       "           0,     0,     0,     0,     0,     0,     0,     0,     0,\n",
       "           0,     0,     0,     0,     0,     0,     0,     0,     0,\n",
       "           0,     0,     0])>"
      ]
     },
     "execution_count": 37,
     "metadata": {},
     "output_type": "execute_result"
    }
   ],
   "source": [
    "question_toks[0]"
   ]
  },
  {
   "cell_type": "code",
   "execution_count": 38,
   "metadata": {},
   "outputs": [
    {
     "data": {
      "text/plain": [
       "(TensorShape([1, 75, 128]), TensorShape([1, 124, 128]))"
      ]
     },
     "execution_count": 38,
     "metadata": {},
     "output_type": "execute_result"
    }
   ],
   "source": [
    "question_embed = Embedding(vocab_size=q_vocab_size, seq_length=75, embed_dim=128)\n",
    "answer_embed = Embedding(vocab_size=a_vocab_size, seq_length=124, embed_dim=128)\n",
    "\n",
    "q_emb = question_embed(question_toks[:1])\n",
    "a_emb = answer_embed(answer_in_toks[:1])\n",
    "\n",
    "q_emb.shape, a_emb.shape"
   ]
  },
  {
   "cell_type": "markdown",
   "metadata": {},
   "source": [
    "### 注意力机制\n",
    "\n",
    "$$\\Large{Attention(Q, K, V) = softmax_k\\left(\\frac{QK^T}{\\sqrt{d_k}}\\right) V} $$\n"
   ]
  },
  {
   "cell_type": "markdown",
   "metadata": {},
   "source": [
    "*缩放点乘注意力实现*："
   ]
  },
  {
   "cell_type": "code",
   "execution_count": 53,
   "metadata": {},
   "outputs": [],
   "source": [
    "def scaled_dot_product_attention(q, k, v, mask):\n",
    "    \"\"\"Calculate the attention weights.\n",
    "    q, k must have matching embed dimensions.\n",
    "    k, v must have matching timestep dimension, i.e.: seq_len_k = seq_len_v.\n",
    "    The mask has different shapes depending on its type(padding or look ahead)\n",
    "    but it must be broadcastable for addition.\n",
    "\n",
    "    Args:\n",
    "        q: query shape == (..., seq_len_q, depth)\n",
    "        k: key shape == (..., seq_len_k, depth)\n",
    "        v: value shape == (..., seq_len_v, depth_v)\n",
    "        mask: Float tensor with shape broadcastable\n",
    "            to (..., seq_len_q, seq_len_k). Defaults to None.\n",
    "\n",
    "    Returns:\n",
    "        output, attention_weights\n",
    "    \"\"\"\n",
    "\n",
    "    matmul_qk = tf.matmul(q, k, transpose_b=True)  # (..., seq_len_q, seq_len_k)\n",
    "\n",
    "    # scale matmul_qk\n",
    "    dk = tf.cast(tf.shape(k)[-1], tf.float32)\n",
    "    scaled_attention_logits = matmul_qk / tf.math.sqrt(dk)\n",
    "\n",
    "    # add the mask to the scaled tensor.\n",
    "    # Since mask is 1.0 for positions we want to keep and 0.0 for masked\n",
    "    # positions, this operation will create a tensor which is 0.0 for\n",
    "    # positions we want to attend and -1e.9 for masked positions.\n",
    "    if mask is not None:\n",
    "        scaled_attention_logits += (1.0 - mask) * -1e9\n",
    "\n",
    "    # softmax is normalized on the last axis (seq_len_k) so that the scores\n",
    "    # add up to 1.\n",
    "    attention_weights = tf.nn.softmax(scaled_attention_logits, axis=-1)  # (..., seq_len_q, seq_len_k)\n",
    "\n",
    "    output = tf.matmul(attention_weights, v)  # (..., seq_len_q, depth_v)\n",
    "\n",
    "    return output, attention_weights"
   ]
  },
  {
   "cell_type": "markdown",
   "metadata": {},
   "source": [
    "缩放点乘注意力的本质是查询，查询`query`的最佳`value`，通过点乘计算`query`与每个`key`的近似程度，然后在加权求和得到`query`的`value`。下面通过一些例子演示注意力机制："
   ]
  },
  {
   "cell_type": "code",
   "execution_count": 54,
   "metadata": {},
   "outputs": [],
   "source": [
    "temp_k = tf.constant([[10, 0, 0],\n",
    "                      [0, 10, 0],\n",
    "                      [0, 0, 10],\n",
    "                      [0, 0, 10]], dtype=tf.float32)  # (4, 3)\n",
    "\n",
    "temp_v = tf.constant([[1, 0],\n",
    "                      [10, 0],\n",
    "                      [100, 5],\n",
    "                      [1000, 6]], dtype=tf.float32)  # (4, 2)"
   ]
  },
  {
   "cell_type": "code",
   "execution_count": 55,
   "metadata": {},
   "outputs": [],
   "source": [
    "# q 与第二个 k 最匹配，返回缩放后的 v 的第二组 值\n",
    "temp_q = tf.constant([[0, 10, 0]], dtype=tf.float32)  # (1, 3)\n",
    "\n",
    "temp_out, temp_attn = scaled_dot_product_attention(temp_q, temp_k, temp_v, None)"
   ]
  },
  {
   "cell_type": "code",
   "execution_count": 56,
   "metadata": {},
   "outputs": [
    {
     "data": {
      "text/plain": [
       "(array([[1.000000e+01, 9.276602e-25]], dtype=float32),\n",
       " array([[8.433274e-26, 1.000000e+00, 8.433274e-26, 8.433274e-26]],\n",
       "       dtype=float32))"
      ]
     },
     "execution_count": 56,
     "metadata": {},
     "output_type": "execute_result"
    }
   ],
   "source": [
    "temp_out.numpy(), temp_attn.numpy()"
   ]
  },
  {
   "cell_type": "markdown",
   "metadata": {},
   "source": [
    "从注意力的分数也可以看出`query`与`key`的接近程度，下面是一组查询："
   ]
  },
  {
   "cell_type": "code",
   "execution_count": 61,
   "metadata": {},
   "outputs": [],
   "source": [
    "temp_q = tf.constant([[0, 0, 10],\n",
    "                      [0, 10, 0],\n",
    "                      [10, 10, 0]], dtype=tf.float32)  # (3, 3)\n",
    "\n",
    "\n",
    "temp_out, temp_attn = scaled_dot_product_attention(temp_q, temp_k, temp_v, None)"
   ]
  },
  {
   "cell_type": "code",
   "execution_count": 62,
   "metadata": {},
   "outputs": [
    {
     "data": {
      "text/plain": [
       "<tf.Tensor: shape=(3, 4), dtype=float32, numpy=\n",
       "array([[4.216637e-26, 4.216637e-26, 5.000000e-01, 5.000000e-01],\n",
       "       [8.433274e-26, 1.000000e+00, 8.433274e-26, 8.433274e-26],\n",
       "       [5.000000e-01, 5.000000e-01, 4.216637e-26, 4.216637e-26]],\n",
       "      dtype=float32)>"
      ]
     },
     "execution_count": 62,
     "metadata": {},
     "output_type": "execute_result"
    }
   ],
   "source": [
    "temp_attn"
   ]
  },
  {
   "cell_type": "code",
   "execution_count": 92,
   "metadata": {},
   "outputs": [
    {
     "data": {
      "text/plain": [
       "Text(0.5, 1.0, 'Attention Scores')"
      ]
     },
     "execution_count": 92,
     "metadata": {},
     "output_type": "execute_result"
    },
    {
     "data": {
      "image/png": "[encoded data removed]",
      "text/plain": [
       "<Figure size 640x480 with 2 Axes>"
      ]
     },
     "metadata": {},
     "output_type": "display_data"
    }
   ],
   "source": [
    "sns.heatmap(temp_attn.numpy())\n",
    "plt.title(\"Attention Scores\")"
   ]
  },
  {
   "cell_type": "markdown",
   "metadata": {},
   "source": [
    "*注意力掩码：*\n",
    "\n",
    "用来屏蔽部分注意力，例如屏蔽序列中填充值0、屏蔽下一个token。掩码屏蔽操作用在softmax之前，通过矩阵加法来实现：\n",
    "1. mask : 1.:保留注意力，0.屏蔽注意力\n",
    "2. 1-mask : 0.:保留注意力，1.:屏蔽注意力\n",
    "3. 掩码屏蔽位置置为：-1e9,与缩放后的注意力相加\n",
    "```python\n",
    "if mask is not None:\n",
    "      scaled_attention_logits += (1.0 - mask) * -1e9\n",
    "```\n",
    "\n",
    "下面是几种常见的掩码计算过程："
   ]
  },
  {
   "cell_type": "code",
   "execution_count": 20,
   "metadata": {},
   "outputs": [],
   "source": [
    "def create_padding_mask(seq):\n",
    "    seq = tf.cast(tf.math.not_equal(seq, 0), tf.float32)\n",
    "    # add extra dimensions to add the padding\n",
    "    # to the attention logits.\n",
    "    return seq#[:, tf.newaxis, tf.newaxis, :]  # (batch_size, 1, 1, seq_len)"
   ]
  },
  {
   "cell_type": "code",
   "execution_count": 65,
   "metadata": {},
   "outputs": [
    {
     "data": {
      "text/plain": [
       "<tf.Tensor: shape=(3, 5), dtype=float32, numpy=\n",
       "array([[1., 1., 0., 0., 1.],\n",
       "       [1., 1., 1., 0., 0.],\n",
       "       [0., 0., 0., 1., 1.]], dtype=float32)>"
      ]
     },
     "execution_count": 65,
     "metadata": {},
     "output_type": "execute_result"
    }
   ],
   "source": [
    "x = tf.constant([[7, 6, 0, 0, 1], [1, 2, 3, 0, 0], [0, 0, 0, 4, 5]])\n",
    "create_padding_mask(x)"
   ]
  },
  {
   "cell_type": "code",
   "execution_count": 21,
   "metadata": {},
   "outputs": [],
   "source": [
    "def create_causal_mask(size):\n",
    "    mask = tf.linalg.band_part(tf.ones((size, size)), -1, 0)\n",
    "    return mask  # (seq_len, seq_len)"
   ]
  },
  {
   "cell_type": "code",
   "execution_count": 72,
   "metadata": {},
   "outputs": [
    {
     "data": {
      "text/plain": [
       "<tf.Tensor: shape=(3, 3), dtype=float32, numpy=\n",
       "array([[1., 0., 0.],\n",
       "       [1., 1., 0.],\n",
       "       [1., 1., 1.]], dtype=float32)>"
      ]
     },
     "execution_count": 72,
     "metadata": {},
     "output_type": "execute_result"
    }
   ],
   "source": [
    "x = tf.random.uniform((1, 3))\n",
    "temp = create_causal_mask(x.shape[1])\n",
    "temp"
   ]
  },
  {
   "cell_type": "markdown",
   "metadata": {},
   "source": [
    "### 其他注意力机制"
   ]
  },
  {
   "cell_type": "markdown",
   "metadata": {},
   "source": [
    "在基础注意力的基础之上延伸出的其他注意力机制，不同的注意力集中应用在不同的编解码器中：\n",
    "\n",
    "- 交叉注意力\n",
    "- 全局注意力\n",
    "- 因果注意力\n",
    "- 多头注意力"
   ]
  },
  {
   "cell_type": "markdown",
   "metadata": {},
   "source": [
    "下面基于Tensorflow提供的`MultiHeadAttention`实现其他注意力层："
   ]
  },
  {
   "cell_type": "code",
   "execution_count": 22,
   "metadata": {},
   "outputs": [],
   "source": [
    "class BaseAttention(tf.keras.layers.Layer):\n",
    "    def __init__(self, **kwargs):\n",
    "        super().__init__()\n",
    "        self.mha = tf.keras.layers.MultiHeadAttention(**kwargs)\n",
    "        self.layernorm = tf.keras.layers.LayerNormalization()\n",
    "        self.add = tf.keras.layers.Add()"
   ]
  },
  {
   "cell_type": "markdown",
   "metadata": {},
   "source": [
    "交叉注意力层：\n",
    "\n",
    "该层连接编码器和解码器,q : answer_in_embed, k : question_embed, v: question_embed"
   ]
  },
  {
   "cell_type": "code",
   "execution_count": 23,
   "metadata": {},
   "outputs": [],
   "source": [
    "class CrossAttention(BaseAttention):\n",
    "    def call(self, x, context):\n",
    "        attn_output, attn_scores = self.mha(query=x,\n",
    "                                        key=context,\n",
    "                                        value=context,\n",
    "                                        return_attention_scores=True)\n",
    "\n",
    "        # Cache the attention scores for plotting later.\n",
    "        self.last_attn_scores = attn_scores\n",
    "\n",
    "        x = self.add([x, attn_output])\n",
    "        x = self.layernorm(x)\n",
    "        return x"
   ]
  },
  {
   "cell_type": "code",
   "execution_count": 76,
   "metadata": {},
   "outputs": [
    {
     "name": "stdout",
     "output_type": "stream",
     "text": [
      "(1, 75, 128)\n",
      "(1, 124, 128)\n",
      "(1, 124, 128)\n"
     ]
    }
   ],
   "source": [
    "sample_ca = CrossAttention(num_heads=2, key_dim=128)\n",
    "\n",
    "print(q_emb.shape)\n",
    "print(a_emb.shape)\n",
    "print(sample_ca(a_emb, q_emb).shape)"
   ]
  },
  {
   "cell_type": "code",
   "execution_count": 93,
   "metadata": {},
   "outputs": [
    {
     "data": {
      "text/plain": [
       "Text(0.5, 1.0, 'Attention Scores')"
      ]
     },
     "execution_count": 93,
     "metadata": {},
     "output_type": "execute_result"
    },
    {
     "data": {
      "image/png": "[encoded data removed]",
      "text/plain": [
       "<Figure size 640x480 with 2 Axes>"
      ]
     },
     "metadata": {},
     "output_type": "display_data"
    }
   ],
   "source": [
    "sns.heatmap(sample_ca.last_attn_scores[0][0].numpy())\n",
    "plt.axis('off')\n",
    "plt.title(\"Attention Scores\")"
   ]
  },
  {
   "cell_type": "markdown",
   "metadata": {},
   "source": [
    "全局自注意力层：\n",
    "\n",
    "该层负责处理上下文序列（question)，由于在生成翻译时上下文序列是固定的，因此允许信息双向流动。在Transformer和Attention之前，模型通常使用RNN或CNN。\n",
    "\n",
    "RNN和CNN的局限性：\n",
    "\n",
    "- RNN允许信息在整个序列中一直流动，但它要经过许多处理步骤才能到达那里（限制梯度流）。这些 RNN 步骤必须按顺序运行，因此 RNN 不太能够利用现代并行设备。\n",
    "- 在CNN中，每个位置都可以并行处理，但它只提供有限的感受野。感受野仅随CNN层的数量线性增长，您需要堆叠多个卷积层才能跨序列传输信息（Wavenet通过使用膨胀卷积来减少这个问题）。\n",
    "\n",
    "全局自注意层允许序列的每个元素直接访问其他每个序列元素。"
   ]
  },
  {
   "cell_type": "code",
   "execution_count": 24,
   "metadata": {},
   "outputs": [],
   "source": [
    "class GlobalSelfAttention(BaseAttention):\n",
    "    def call(self, x):\n",
    "        attn_output = self.mha(query=x, value=x, key=x)\n",
    "        x = self.add([x, attn_output])\n",
    "        x = self.layernorm(x)\n",
    "        return x"
   ]
  },
  {
   "cell_type": "code",
   "execution_count": 80,
   "metadata": {},
   "outputs": [
    {
     "name": "stdout",
     "output_type": "stream",
     "text": [
      "(1, 75, 128)\n",
      "(1, 75, 128)\n"
     ]
    }
   ],
   "source": [
    "sample_gsa = GlobalSelfAttention(num_heads=2, key_dim=128)\n",
    "\n",
    "print(q_emb.shape)\n",
    "print(sample_gsa(q_emb).shape)"
   ]
  },
  {
   "cell_type": "markdown",
   "metadata": {},
   "source": [
    "#### 因果自注意力层\n",
    "\n",
    "此层与全局自注意层类似,不过用于解码器。\n",
    "\n",
    "&emsp;&emsp;文本生成一个“自回归”模型：它们一次生成一个标记的文本，并将输出反馈给输入。为了提高效率，这些模型确保每个序列元素的输出仅依赖于先前的序列元素;这些模型是“因果关系”的。单向RNN也可以处理因果关系，只要进行因果卷积，`layers.Conv1D(padding='causal')`。因果自注意力层则通过掩码屏蔽来实现，上面全局自注意力层提到，序列中的每个元素可以直接“看到”序列中的其他元素，为了处理顺序的“因果”关系，通过掩码屏蔽部分注意力，确保每个位置的元素只能“看到”它之前位置的token。"
   ]
  },
  {
   "cell_type": "code",
   "execution_count": 25,
   "metadata": {},
   "outputs": [],
   "source": [
    "class CausalSelfAttention(BaseAttention):\n",
    "    def call(self, x, mask):\n",
    "        attn_output = self.mha(query=x, value=x, key=x, attention_mask=mask)\n",
    "                                #use_causal_mask = True)  # tf.version 2.11\n",
    "        x = self.add([x, attn_output])\n",
    "        x = self.layernorm(x)\n",
    "        return x"
   ]
  },
  {
   "cell_type": "code",
   "execution_count": 100,
   "metadata": {},
   "outputs": [
    {
     "name": "stdout",
     "output_type": "stream",
     "text": [
      "(1, 124, 128)\n",
      "(1, 124, 128)\n"
     ]
    }
   ],
   "source": [
    "causal_mask = create_causal_mask(a_emb.shape[1])\n",
    "\n",
    "sample_csa = CausalSelfAttention(num_heads=2, key_dim=128)\n",
    "\n",
    "print(a_emb.shape)\n",
    "print(sample_csa(a_emb, mask=causal_mask).shape)"
   ]
  },
  {
   "cell_type": "code",
   "execution_count": 101,
   "metadata": {},
   "outputs": [
    {
     "data": {
      "text/plain": [
       "<AxesSubplot: title={'center': 'Causal Mask'}>"
      ]
     },
     "execution_count": 101,
     "metadata": {},
     "output_type": "execute_result"
    },
    {
     "data": {
      "image/png": "[encoded data removed]",
      "text/plain": [
       "<Figure size 640x480 with 2 Axes>"
      ]
     },
     "metadata": {},
     "output_type": "display_data"
    }
   ],
   "source": [
    "plt.title(\"Causal Mask\")\n",
    "sns.heatmap(causal_mask.numpy())"
   ]
  },
  {
   "cell_type": "markdown",
   "metadata": {},
   "source": [
    "#### 前馈神经网络\n",
    "\n",
    "由两个全连接层组成,先投射到高维在压缩到低维，采用ReLU激活函数，还有一个dropout层。与注意层一样，也包括残差连接和规范化。"
   ]
  },
  {
   "cell_type": "code",
   "execution_count": 26,
   "metadata": {},
   "outputs": [],
   "source": [
    "class FeedForward(tf.keras.layers.Layer):\n",
    "    def __init__(self, embed_dim, dff, dropout_rate=0.1):\n",
    "        super().__init__()\n",
    "        self.seq = tf.keras.Sequential([\n",
    "                   tf.keras.layers.Dense(dff, activation='relu'),\n",
    "                   tf.keras.layers.Dense(embed_dim),\n",
    "                   tf.keras.layers.Dropout(dropout_rate)])\n",
    "        self.add = tf.keras.layers.Add()\n",
    "        self.layer_norm = tf.keras.layers.LayerNormalization()\n",
    "\n",
    "    def call(self, x):\n",
    "        x = self.add([x, self.seq(x)])\n",
    "        x = self.layer_norm(x) \n",
    "        return x"
   ]
  },
  {
   "cell_type": "code",
   "execution_count": 103,
   "metadata": {},
   "outputs": [
    {
     "name": "stdout",
     "output_type": "stream",
     "text": [
      "(1, 124, 128)\n",
      "(1, 124, 128)\n"
     ]
    }
   ],
   "source": [
    "sample_ffn = FeedForward(128, 2048)\n",
    "\n",
    "print(a_emb.shape)\n",
    "print(sample_ffn(a_emb).shape)"
   ]
  },
  {
   "cell_type": "markdown",
   "metadata": {},
   "source": [
    "### 编码器\n",
    "\n",
    "Embedding + Attention + FeedForward\n",
    "\n",
    "- Embedding : WordsEmbedding + PositionEmbeding\n",
    "- Attention : GlobalSelfAttention(x = q = k = v)"
   ]
  },
  {
   "cell_type": "code",
   "execution_count": 27,
   "metadata": {},
   "outputs": [],
   "source": [
    "class EncoderLayer(tf.keras.layers.Layer):\n",
    "    def __init__(self,*, embed_dim, num_heads, dff, dropout_rate=0.1):\n",
    "        super().__init__()\n",
    "\n",
    "        self.self_attention = GlobalSelfAttention(num_heads=num_heads,\n",
    "                                                  key_dim=embed_dim,\n",
    "                                                  dropout=dropout_rate)\n",
    "        self.ffn = FeedForward(embed_dim, dff)\n",
    "\n",
    "    def call(self, x):\n",
    "        x = self.self_attention(x)\n",
    "        x = self.ffn(x)\n",
    "        return x"
   ]
  },
  {
   "cell_type": "markdown",
   "metadata": {},
   "source": [
    "测试编码层,输入 queston的嵌入向量："
   ]
  },
  {
   "cell_type": "code",
   "execution_count": 105,
   "metadata": {},
   "outputs": [
    {
     "name": "stdout",
     "output_type": "stream",
     "text": [
      "(1, 75, 128)\n",
      "(1, 75, 128)\n"
     ]
    }
   ],
   "source": [
    "sample_encoder_layer = EncoderLayer(embed_dim=128, num_heads=8, dff=2048)\n",
    "\n",
    "print(q_emb.shape)\n",
    "print(sample_encoder_layer(q_emb).shape)"
   ]
  },
  {
   "cell_type": "code",
   "execution_count": 28,
   "metadata": {},
   "outputs": [],
   "source": [
    "class Encoder(tf.keras.layers.Layer):\n",
    "    def __init__(self, *, num_layers, embed_dim, num_heads,\n",
    "                 dff, vocab_size, dropout_rate=0.1):\n",
    "        super().__init__()\n",
    "\n",
    "        self.embed_dim = embed_dim\n",
    "        self.num_layers = num_layers\n",
    "\n",
    "        self.pos_embedding = Embedding(vocab_size=vocab_size, seq_length=75, embed_dim=embed_dim)\n",
    "\n",
    "        self.enc_layers = [EncoderLayer(embed_dim=embed_dim,\n",
    "                           num_heads=num_heads,\n",
    "                           dff=dff,\n",
    "                           dropout_rate=dropout_rate)\n",
    "                           for _ in range(num_layers)]    # stack Encoder Layers\n",
    "        self.dropout = tf.keras.layers.Dropout(dropout_rate)\n",
    "\n",
    "    def call(self, x):\n",
    "        # `x` is token-IDs shape: (batch, seq_len)\n",
    "        x = self.pos_embedding(x)  # Shape `(batch_size, seq_len, embed_dim)`.\n",
    "        # Add dropout.\n",
    "        x = self.dropout(x)\n",
    "        for i in range(self.num_layers):\n",
    "            x = self.enc_layers[i](x)\n",
    "        return x                  # Shape `(batch_size, seq_len, embed_dim)`."
   ]
  },
  {
   "cell_type": "markdown",
   "metadata": {},
   "source": [
    "测试编码器，输入question_toks："
   ]
  },
  {
   "cell_type": "code",
   "execution_count": 107,
   "metadata": {},
   "outputs": [
    {
     "name": "stdout",
     "output_type": "stream",
     "text": [
      "(32, 75)\n",
      "(32, 75, 128)\n"
     ]
    }
   ],
   "source": [
    "# Instantiate the encoder.\n",
    "sample_encoder = Encoder(num_layers = 4,\n",
    "                         embed_dim = 128,\n",
    "                         num_heads = 8,\n",
    "                         dff = 2048,\n",
    "                         vocab_size = q_vocab_size)\n",
    "\n",
    "sample_encoder_output = sample_encoder(question_toks, training=False)\n",
    "\n",
    "# Print the shape.\n",
    "print(question_toks.shape)          # Shape (batch size, input_seq_len)\n",
    "print(sample_encoder_output.shape)  # Shape `(batch_size, input_seq_len, d_model)`."
   ]
  },
  {
   "cell_type": "markdown",
   "metadata": {},
   "source": [
    "### 解码器\n",
    "\n",
    "Embedding + Attention + FeedForward\n",
    "\n",
    "- Embedding : WordsEmbedding + PositionEmbeding\n",
    "- Attention : CausalSelfAttention + CrossAttention"
   ]
  },
  {
   "cell_type": "code",
   "execution_count": 29,
   "metadata": {},
   "outputs": [],
   "source": [
    "class DecoderLayer(tf.keras.layers.Layer):\n",
    "    def __init__(self,*, embed_dim, num_heads,\n",
    "                 dff, dropout_rate=0.1):\n",
    "        super(DecoderLayer, self).__init__()\n",
    "\n",
    "        self.causal_self_attention = CausalSelfAttention(num_heads=num_heads,\n",
    "                                     key_dim=embed_dim,\n",
    "                                     dropout=dropout_rate)\n",
    "\n",
    "        self.cross_attention = CrossAttention(num_heads=num_heads,\n",
    "                               key_dim=embed_dim,\n",
    "                               dropout=dropout_rate)\n",
    "\n",
    "        self.ffn = FeedForward(embed_dim, dff)\n",
    "\n",
    "    def call(self, x, context, mask):\n",
    "        x = self.causal_self_attention(x=x, mask=mask)\n",
    "        x = self.cross_attention(x=x, context=context)\n",
    "        # Cache the last attention scores for plotting later\n",
    "        self.last_attn_scores = self.cross_attention.last_attn_scores\n",
    "        # Shape `(batch_size, seq_len, d_model)`.\n",
    "        x = self.ffn(x)   \n",
    "        return x"
   ]
  },
  {
   "cell_type": "markdown",
   "metadata": {},
   "source": [
    "测试解码层："
   ]
  },
  {
   "cell_type": "code",
   "execution_count": 109,
   "metadata": {},
   "outputs": [],
   "source": [
    "causal_mask = create_causal_mask(a_emb.shape[1])"
   ]
  },
  {
   "cell_type": "code",
   "execution_count": 110,
   "metadata": {},
   "outputs": [
    {
     "name": "stdout",
     "output_type": "stream",
     "text": [
      "(1, 124, 128)\n",
      "(1, 75, 128)\n",
      "(1, 124, 128)\n"
     ]
    }
   ],
   "source": [
    "sample_decoder_layer = DecoderLayer(embed_dim=128, num_heads=8, dff=2048)\n",
    "\n",
    "sample_decoder_layer_output = sample_decoder_layer(x=a_emb, context=q_emb, mask=causal_mask)\n",
    "\n",
    "print(a_emb.shape)\n",
    "print(q_emb.shape)\n",
    "print(sample_decoder_layer_output.shape)  # `(batch_size, seq_len, d_model)`"
   ]
  },
  {
   "cell_type": "code",
   "execution_count": 30,
   "metadata": {},
   "outputs": [],
   "source": [
    "class Decoder(tf.keras.layers.Layer):\n",
    "    def __init__(self, *, num_layers, embed_dim, num_heads, dff, vocab_size,\n",
    "                 dropout_rate=0.1):\n",
    "        super(Decoder, self).__init__()\n",
    "\n",
    "        self.embed_dim = embed_dim\n",
    "        self.num_layers = num_layers\n",
    "\n",
    "        self.pos_embedding = Embedding(vocab_size=vocab_size,\n",
    "                                       seq_length=124,\n",
    "                                       embed_dim=embed_dim)\n",
    "        self.dropout = tf.keras.layers.Dropout(dropout_rate)\n",
    "        self.dec_layers = [DecoderLayer(embed_dim = embed_dim, num_heads=num_heads,\n",
    "                           dff=dff, dropout_rate=dropout_rate)\n",
    "                           for _ in range(num_layers)]\n",
    "\n",
    "        self.last_attn_scores = None\n",
    "\n",
    "    def call(self, x, context, mask):\n",
    "        # `x` is token-IDs shape (batch, target_seq_len)\n",
    "        x = self.pos_embedding(x)  # (batch_size, target_seq_len, embed_dim)\n",
    "\n",
    "        x = self.dropout(x)\n",
    "\n",
    "        for i in range(self.num_layers):\n",
    "            x  = self.dec_layers[i](x, context, mask)\n",
    "\n",
    "        self.last_attn_scores = self.dec_layers[-1].last_attn_scores\n",
    "        # The shape of x is (batch_size, target_seq_len, embed_dim).\n",
    "        return x"
   ]
  },
  {
   "cell_type": "markdown",
   "metadata": {},
   "source": [
    "测试解码器："
   ]
  },
  {
   "cell_type": "code",
   "execution_count": 116,
   "metadata": {},
   "outputs": [
    {
     "name": "stdout",
     "output_type": "stream",
     "text": [
      "(1, 124)\n",
      "(1, 75, 128)\n",
      "(1, 124, 128)\n"
     ]
    }
   ],
   "source": [
    "# Instantiate the decoder.\n",
    "sample_decoder = Decoder(num_layers=4,\n",
    "                         embed_dim=128,\n",
    "                         num_heads=8,\n",
    "                         dff=1024,\n",
    "                         vocab_size=a_vocab_size)\n",
    "\n",
    "output = sample_decoder(x=answer_in_toks[:1], context=q_emb, mask=causal_mask)\n",
    "\n",
    "# Print the shapes.\n",
    "print(answer_in_toks[:1].shape)\n",
    "print(q_emb.shape)\n",
    "print(output.shape)"
   ]
  },
  {
   "cell_type": "code",
   "execution_count": 117,
   "metadata": {},
   "outputs": [
    {
     "data": {
      "text/plain": [
       "TensorShape([1, 8, 124, 75])"
      ]
     },
     "execution_count": 117,
     "metadata": {},
     "output_type": "execute_result"
    }
   ],
   "source": [
    "sample_decoder.last_attn_scores.shape  # (batch, heads, target_seq, input_seq)"
   ]
  },
  {
   "cell_type": "markdown",
   "metadata": {},
   "source": [
    "## Transformer\n",
    "\n",
    "把编码器和解码器组合在一起，最后在添加全连接层，预测下一个token的概率分布。"
   ]
  },
  {
   "cell_type": "code",
   "execution_count": 31,
   "metadata": {},
   "outputs": [],
   "source": [
    "class Transformer(tf.keras.Model):\n",
    "    def __init__(self, *, num_layers, embed_dim, num_heads, dff,\n",
    "                 input_vocab_size, target_vocab_size, dropout_rate=0.1):\n",
    "        super().__init__()\n",
    "        self.encoder = Encoder(num_layers=num_layers, embed_dim=embed_dim,\n",
    "                               num_heads=num_heads, dff=dff,\n",
    "                               vocab_size=input_vocab_size,\n",
    "                               dropout_rate=dropout_rate)\n",
    "\n",
    "        self.decoder = Decoder(num_layers=num_layers, embed_dim=embed_dim,\n",
    "                               num_heads=num_heads, dff=dff,\n",
    "                               vocab_size=target_vocab_size,\n",
    "                               dropout_rate=dropout_rate)\n",
    "\n",
    "        self.final_layer = tf.keras.layers.Dense(target_vocab_size)\n",
    "\n",
    "    def call(self, inputs, mask):\n",
    "        context, x  = inputs                    # (question, answer_in)\n",
    "        context = self.encoder(context)         # (batch_size, context_len, embed_dim)\n",
    "        x = self.decoder(x, context, mask)      # (batch_size, target_len, embed_dim)\n",
    "        # Final linear layer output.\n",
    "        logits = self.final_layer(x)      # (batch_size, target_len, target_vocab_size)\n",
    "        try:\n",
    "            # Drop the keras mask, so it doesn't scale the losses/metrics.\n",
    "            # b/250038731\n",
    "            del logits._keras_mask\n",
    "        except AttributeError:\n",
    "            pass\n",
    "\n",
    "        # Return the final output and the attention weights.\n",
    "        return logits"
   ]
  },
  {
   "cell_type": "code",
   "execution_count": 32,
   "metadata": {},
   "outputs": [],
   "source": [
    "# 参数\n",
    "num_layers = 4\n",
    "embed_dim = 128\n",
    "dff = 1024\n",
    "num_heads = 2\n",
    "dropout_rate = 0.1"
   ]
  },
  {
   "cell_type": "code",
   "execution_count": 39,
   "metadata": {},
   "outputs": [],
   "source": [
    "transformer = Transformer(num_layers=num_layers,\n",
    "                          embed_dim=embed_dim,\n",
    "                          num_heads=num_heads,\n",
    "                          dff=dff,\n",
    "                          input_vocab_size=q_vocab_size,  # 55001\n",
    "                          target_vocab_size=a_vocab_size, # 59768\n",
    "                          dropout_rate=dropout_rate)"
   ]
  },
  {
   "cell_type": "code",
   "execution_count": 122,
   "metadata": {},
   "outputs": [],
   "source": [
    "causal_mask = create_causal_mask(answer_max_length-1)"
   ]
  },
  {
   "cell_type": "code",
   "execution_count": 124,
   "metadata": {},
   "outputs": [
    {
     "name": "stdout",
     "output_type": "stream",
     "text": [
      "(32, 75)\n",
      "(32, 124)\n",
      "(32, 124, 59768)\n"
     ]
    }
   ],
   "source": [
    "output = transformer((question_toks, answer_in_toks),mask=causal_mask)\n",
    "\n",
    "print(question_toks.shape)\n",
    "print(answer_in_toks.shape)\n",
    "print(output.shape)"
   ]
  },
  {
   "cell_type": "code",
   "execution_count": 125,
   "metadata": {},
   "outputs": [
    {
     "name": "stdout",
     "output_type": "stream",
     "text": [
      "Model: \"transformer\"\n",
      "_________________________________________________________________\n",
      "Layer (type)                 Output Shape              Param #   \n",
      "=================================================================\n",
      "encoder_1 (Encoder)          multiple                  8623232   \n",
      "_________________________________________________________________\n",
      "decoder_4 (Decoder)          multiple                  9762304   \n",
      "_________________________________________________________________\n",
      "dense_62 (Dense)             multiple                  7710072   \n",
      "=================================================================\n",
      "Total params: 26,095,608\n",
      "Trainable params: 26,095,608\n",
      "Non-trainable params: 0\n",
      "_________________________________________________________________\n"
     ]
    }
   ],
   "source": [
    "transformer.summary()"
   ]
  },
  {
   "cell_type": "markdown",
   "metadata": {},
   "source": [
    "### 训练模型\n",
    "\n",
    "$$\\Large{lrate = d_{model}^{-0.5} * \\min(step{\\_}num^{-0.5}, step{\\_}num \\cdot warmup{\\_}steps^{-1.5})}$$\n",
    "\n",
    "自定义学习率："
   ]
  },
  {
   "cell_type": "code",
   "execution_count": 40,
   "metadata": {},
   "outputs": [],
   "source": [
    "class CustomSchedule(tf.keras.optimizers.schedules.LearningRateSchedule):\n",
    "    def __init__(self, embed_dim, warmup_steps=4000):\n",
    "        super().__init__()\n",
    "\n",
    "        self.embed_dim = embed_dim\n",
    "        self.embed_dim = tf.cast(self.embed_dim, tf.float32)\n",
    "\n",
    "        self.warmup_steps = warmup_steps\n",
    "\n",
    "    def __call__(self, step):\n",
    "        step = tf.cast(step, dtype=tf.float32)\n",
    "        arg1 = tf.math.rsqrt(step)\n",
    "        arg2 = step * (self.warmup_steps ** -1.5)\n",
    "\n",
    "        return tf.math.rsqrt(self.embed_dim) * tf.math.minimum(arg1, arg2)"
   ]
  },
  {
   "cell_type": "code",
   "execution_count": 41,
   "metadata": {},
   "outputs": [],
   "source": [
    "learning_rate = CustomSchedule(embed_dim)\n",
    "\n",
    "optimizer = tf.keras.optimizers.Adam(learning_rate, beta_1=0.9, beta_2=0.98,\n",
    "                                     epsilon=1e-9)"
   ]
  },
  {
   "cell_type": "markdown",
   "metadata": {},
   "source": [
    "可视化学习率变化曲线："
   ]
  },
  {
   "cell_type": "code",
   "execution_count": 42,
   "metadata": {},
   "outputs": [
    {
     "data": {
      "text/plain": [
       "Text(0.5, 0, 'Train Step')"
      ]
     },
     "execution_count": 42,
     "metadata": {},
     "output_type": "execute_result"
    },
    {
     "data": {
      "image/png": "[encoded data removed]",
      "text/plain": [
       "<Figure size 700x400 with 1 Axes>"
      ]
     },
     "metadata": {},
     "output_type": "display_data"
    }
   ],
   "source": [
    "plt.figure(figsize=(7, 4))\n",
    "plt.plot(learning_rate(tf.range(40000, dtype=tf.float32)))\n",
    "plt.ylabel('Learning Rate')\n",
    "plt.xlabel('Train Step')"
   ]
  },
  {
   "cell_type": "markdown",
   "metadata": {},
   "source": [
    "#### 损失函数和目标函数"
   ]
  },
  {
   "cell_type": "code",
   "execution_count": 43,
   "metadata": {},
   "outputs": [],
   "source": [
    "def masked_loss(label, pred):\n",
    "    mask = label != 0\n",
    "    loss_object = tf.keras.losses.SparseCategoricalCrossentropy(\n",
    "    from_logits=True, reduction='none')\n",
    "    loss = loss_object(label, pred)\n",
    "    mask = tf.cast(mask, dtype=loss.dtype)\n",
    "    loss *= mask\n",
    "    loss = tf.reduce_sum(loss)/tf.reduce_sum(mask)\n",
    "    return loss\n",
    "\n",
    "\n",
    "def masked_accuracy(label, pred):\n",
    "    pred = tf.argmax(pred, axis=2)\n",
    "    label = tf.cast(label, pred.dtype)\n",
    "    match = label == pred\n",
    "    mask = label != 0\n",
    "    match = match & mask\n",
    "    match = tf.cast(match, dtype=tf.float32)\n",
    "    mask = tf.cast(mask, dtype=tf.float32)\n",
    "    return tf.reduce_sum(match)/tf.reduce_sum(mask)"
   ]
  },
  {
   "cell_type": "code",
   "execution_count": 44,
   "metadata": {},
   "outputs": [],
   "source": [
    "transformer = Transformer(num_layers=num_layers,\n",
    "                          embed_dim=embed_dim,\n",
    "                          num_heads=num_heads,\n",
    "                          dff=dff,\n",
    "                          input_vocab_size=q_vocab_size,  # 55001\n",
    "                          target_vocab_size=a_vocab_size, # 59768\n",
    "                          dropout_rate=dropout_rate)"
   ]
  },
  {
   "cell_type": "markdown",
   "metadata": {},
   "source": [
    "#### Checkpints"
   ]
  },
  {
   "cell_type": "code",
   "execution_count": 45,
   "metadata": {},
   "outputs": [],
   "source": [
    "checkpoint_path = \"./checkpoints/TransformerQ2A\"\n",
    "\n",
    "ckpt = tf.train.Checkpoint(transformer=transformer,\n",
    "                           optimizer=optimizer)\n",
    "\n",
    "ckpt_manager = tf.train.CheckpointManager(ckpt, checkpoint_path, max_to_keep=5)\n",
    "\n",
    "# if a checkpoint exists, restore the latest checkpoint.\n",
    "if ckpt_manager.latest_checkpoint:\n",
    "    ckpt.restore(ckpt_manager.latest_checkpoint)\n",
    "    print('Latest checkpoint restored!!')"
   ]
  },
  {
   "cell_type": "code",
   "execution_count": 46,
   "metadata": {},
   "outputs": [],
   "source": [
    "@tf.function()#(input_signature=train_step_signature)\n",
    "def train_step(inputs, targets):\n",
    "    causal_mask = create_causal_mask(inputs[1].shape[1])\n",
    "    with tf.GradientTape() as tape:\n",
    "        predictions = transformer(inputs, causal_mask)\n",
    "        loss = masked_loss(targets, predictions)\n",
    "    accuracy = masked_accuracy(targets, predictions)\n",
    "    gradients = tape.gradient(loss, transformer.trainable_variables)\n",
    "    optimizer.apply_gradients(zip(gradients, transformer.trainable_variables))\n",
    "    return loss, accuracy"
   ]
  },
  {
   "cell_type": "code",
   "execution_count": 47,
   "metadata": {},
   "outputs": [],
   "source": [
    "EPOCHS = 10"
   ]
  },
  {
   "cell_type": "code",
   "execution_count": 48,
   "metadata": {
    "scrolled": true
   },
   "outputs": [
    {
     "name": "stdout",
     "output_type": "stream",
     "text": [
      "Epoch 1 Batch 0 Loss 10.9982 Accuracy 0.0000\n",
      "Epoch 1 Batch 1000 Loss 5.6318 Accuracy 0.1828\n",
      "Epoch 1 Batch 1562 Loss 4.3872 Accuracy 0.2616\n",
      "Time taken for 1 epoch: 297.22 secs\n",
      "\n",
      "Epoch 2 Batch 0 Loss 4.7486 Accuracy 0.2467\n",
      "Epoch 2 Batch 1000 Loss 4.2108 Accuracy 0.2838\n",
      "Epoch 2 Batch 1562 Loss 3.7717 Accuracy 0.3317\n",
      "Time taken for 1 epoch: 288.83 secs\n",
      "\n",
      "Epoch 3 Batch 0 Loss 3.8914 Accuracy 0.2995\n",
      "Epoch 3 Batch 1000 Loss 3.9137 Accuracy 0.2882\n",
      "Epoch 3 Batch 1562 Loss 3.5273 Accuracy 0.3414\n",
      "Time taken for 1 epoch: 288.67 secs\n",
      "\n",
      "Epoch 4 Batch 0 Loss 3.1155 Accuracy 0.4034\n",
      "Epoch 4 Batch 1000 Loss 3.5141 Accuracy 0.3626\n",
      "Epoch 4 Batch 1562 Loss 3.5451 Accuracy 0.3547\n",
      "Time taken for 1 epoch: 288.91 secs\n",
      "\n",
      "Epoch 5 Batch 0 Loss 3.2150 Accuracy 0.3863\n",
      "Epoch 5 Batch 1000 Loss 3.2849 Accuracy 0.3866\n",
      "Saving checkpoint for epoch 5 at ./checkpoints/TransformerQ2A/ckpt-1\n",
      "Epoch 5 Batch 1562 Loss 3.3050 Accuracy 0.4020\n",
      "Time taken for 1 epoch: 289.46 secs\n",
      "\n",
      "Epoch 6 Batch 0 Loss 3.2853 Accuracy 0.3857\n",
      "Epoch 6 Batch 1000 Loss 3.0218 Accuracy 0.4324\n",
      "Epoch 6 Batch 1562 Loss 2.7698 Accuracy 0.4939\n",
      "Time taken for 1 epoch: 288.96 secs\n",
      "\n",
      "Epoch 7 Batch 0 Loss 2.5304 Accuracy 0.4912\n",
      "Epoch 7 Batch 1000 Loss 3.2525 Accuracy 0.4060\n",
      "Epoch 7 Batch 1562 Loss 2.9081 Accuracy 0.4752\n",
      "Time taken for 1 epoch: 288.68 secs\n",
      "\n",
      "Epoch 8 Batch 0 Loss 2.6373 Accuracy 0.5032\n",
      "Epoch 8 Batch 1000 Loss 2.9872 Accuracy 0.4388\n",
      "Epoch 8 Batch 1562 Loss 3.0782 Accuracy 0.4394\n",
      "Time taken for 1 epoch: 288.96 secs\n",
      "\n",
      "Epoch 9 Batch 0 Loss 2.6779 Accuracy 0.4946\n",
      "Epoch 9 Batch 1000 Loss 2.5726 Accuracy 0.4881\n",
      "Epoch 9 Batch 1562 Loss 3.0223 Accuracy 0.4500\n",
      "Time taken for 1 epoch: 288.69 secs\n",
      "\n",
      "Epoch 10 Batch 0 Loss 2.4956 Accuracy 0.5123\n",
      "Epoch 10 Batch 1000 Loss 2.5017 Accuracy 0.5054\n",
      "Saving checkpoint for epoch 10 at ./checkpoints/TransformerQ2A/ckpt-2\n",
      "Epoch 10 Batch 1562 Loss 2.6033 Accuracy 0.4974\n",
      "Time taken for 1 epoch: 289.57 secs\n",
      "\n"
     ]
    }
   ],
   "source": [
    "for epoch in range(EPOCHS):\n",
    "    start = time.time()\n",
    "\n",
    "    train_loss, train_accuracy = [], []\n",
    "\n",
    "    # inp -> portuguese, tar -> english\n",
    "    for (batch, (inputs, targets)) in enumerate(train_ds):\n",
    "        loss, accu = train_step(inputs, targets)\n",
    "        train_loss.append(loss)\n",
    "        train_accuracy.append(accu)\n",
    "        if batch % 1000 == 0:\n",
    "            print(f'Epoch {epoch + 1} Batch {batch} Loss {loss:.4f} Accuracy {accu:.4f}')\n",
    "\n",
    "    if (epoch + 1) % 5 == 0:\n",
    "        ckpt_save_path = ckpt_manager.save()\n",
    "        print(f'Saving checkpoint for epoch {epoch+1} at {ckpt_save_path}')\n",
    "\n",
    "    print(f'Epoch {epoch + 1} Batch {batch} Loss {loss:.4f} Accuracy {accu:.4f}')\n",
    "    print(f'Time taken for 1 epoch: {time.time() - start:.2f} secs\\n')"
   ]
  },
  {
   "cell_type": "code",
   "execution_count": 51,
   "metadata": {},
   "outputs": [
    {
     "data": {
      "text/plain": [
       "[<matplotlib.lines.Line2D at 0x7f0a7c27e940>]"
      ]
     },
     "execution_count": 51,
     "metadata": {},
     "output_type": "execute_result"
    },
    {
     "data": {
      "image/png": "[encoded data removed]",
      "text/plain": [
       "<Figure size 640x480 with 1 Axes>"
      ]
     },
     "metadata": {},
     "output_type": "display_data"
    }
   ],
   "source": [
    "#plt.plot(train_loss)\n",
    "plt.plot(train_accuracy)"
   ]
  },
  {
   "cell_type": "code",
   "execution_count": null,
   "metadata": {},
   "outputs": [],
   "source": []
  },
  {
   "cell_type": "markdown",
   "metadata": {},
   "source": [
    "### 模型推理\n",
    "\n",
    "1. 对分词后的问题文本序列输入编码器，得到$q_{embed}$\n",
    "2. 初始化预测输入`answer_in`:`[START]`\n",
    "3. 计算`answer_in`的causal_mask\n",
    "4. 把`(q_embed, answer_in)`到解码器，预测下一token的概率分布\n",
    "5. 通过采用策略得到下一个token。\n",
    "6. 把预测的token拼接到`answer_in`,作为新的输入，输入解码器\n",
    "    - 如此这般，直到遇到结束符`[END]`或达到最大序列长度"
   ]
  },
  {
   "cell_type": "code",
   "execution_count": 52,
   "metadata": {},
   "outputs": [],
   "source": [
    "class Translator(tf.Module):\n",
    "    def __init__(self, transformer, question_processor, answer_processor):\n",
    "        self.transformer = transformer\n",
    "        self.question_processor = question_processor       # text string --> tokens \n",
    "        self.answer_processor = answer_processor\n",
    "        self.word_to_id = tf.keras.layers.StringLookup(vocabulary=answer_processor.get_vocabulary(),\n",
    "                                                       mask_token='', oov_token='[UNK]')\n",
    "        self.id_to_word = tf.keras.layers.StringLookup(vocabulary=answer_processor.get_vocabulary(),\n",
    "                                                       mask_token='', oov_token='[UNK]',\n",
    "                                                       invert=True)\n",
    "        self.start_token = self.word_to_id(np.array('[START]',dtype=np.str_))\n",
    "        self.end_token = self.word_to_id(np.array('[END]',dtype=np.str_))\n",
    "\n",
    "    def __call__(self, qsentence, max_length=124):\n",
    "        qsentence = tf.convert_to_tensor(qsentence)\n",
    "        if len(qsentence.shape) == 0:\n",
    "            qsentence = tf.convert_to_tensor(qsentence)[tf.newaxis]\n",
    "        # adding the `[START]` and `[END]` tokens.\n",
    "        qtokens = self.question_processor(qsentence)\n",
    "\n",
    "        # initialize the output with the`[START]` token.\n",
    "        start_end = self.answer_processor([''])[0]\n",
    "        start = start_end[0][tf.newaxis]\n",
    "        end = start_end[1][tf.newaxis]\n",
    "\n",
    "        # `tf.TensorArray` is required here (instead of a Python list), so that the\n",
    "        # dynamic-loop can be traced by `tf.function`.\n",
    "        output_array = tf.TensorArray(dtype=tf.int64, size=0, dynamic_size=True)\n",
    "        output_array = output_array.write(0, start)\n",
    "\n",
    "        for i in tf.range(max_length):\n",
    "            output = tf.transpose(output_array.stack())\n",
    "            causal_mask = create_causal_mask(output.shape[1])\n",
    "            predictions = self.transformer([qtokens, output], mask=causal_mask, training=False)\n",
    "\n",
    "            # Select the last token from the `seq_len` dimension.\n",
    "            predictions = predictions[:, -1:, :]  # Shape `(batch_size, 1, vocab_size)`.\n",
    "            predicted_id = tf.argmax(predictions, axis=-1)\n",
    "\n",
    "            # Concatenate the `predicted_id` to the output which is given to the\n",
    "            # decoder as its input.\n",
    "            output_array = output_array.write(i+1, predicted_id[0])\n",
    "\n",
    "            if predicted_id == end:\n",
    "                break\n",
    "\n",
    "        outputs = tf.transpose(output_array.stack())\n",
    "        # The output shape is `(1, tokens)`.\n",
    "        words = self.id_to_word(outputs)\n",
    "        result = tf.strings.reduce_join(words, axis=-1, separator=' ')\n",
    "        result = tf.strings.regex_replace(result, '\\[START\\]', '')\n",
    "        result = tf.strings.regex_replace(result, '\\[END\\]', '')\n",
    "        result = tf.strings.regex_replace(result, '\\[UNK\\]','')\n",
    "        \n",
    "        #text = tokenizers.en.detokenize(output)[0]  # Shape: `()`.\n",
    "        #tokens = tokenizers.en.lookup(output)[0]\n",
    "\n",
    "        # `tf.function` prevents us from using the attention_weights that were\n",
    "        # calculated on the last iteration of the loop.\n",
    "        # So, recalculate them outside the loop.\n",
    "        causal_mask = create_causal_mask(output[:,:-1].shape[1])\n",
    "        self.transformer([qtokens, output[:,:-1]], mask=causal_mask, training=False)\n",
    "        attention_weights = self.transformer.decoder.last_attn_scores\n",
    "\n",
    "        return result, attention_weights"
   ]
  },
  {
   "cell_type": "code",
   "execution_count": 53,
   "metadata": {},
   "outputs": [],
   "source": [
    "def answer_postprocess(answer):\n",
    "    answer = answer.numpy()[0].decode()\n",
    "    words = answer.split(' ')\n",
    "    return ''.join(words)"
   ]
  },
  {
   "cell_type": "code",
   "execution_count": 54,
   "metadata": {},
   "outputs": [],
   "source": [
    "translator = Translator(transformer, question_processor=question_vectorization,\n",
    "                        answer_processor=answer_vectorization)"
   ]
  },
  {
   "cell_type": "code",
   "execution_count": 70,
   "metadata": {},
   "outputs": [
    {
     "name": "stdout",
     "output_type": "stream",
     "text": [
      "问题： 我女儿得了急性喉炎该用什么方法治疗呢需要付点什么药见效快\n",
      "答案： 咽喉炎。没有特效的办法。关键是保养。不大声讲话和歌唱。积极预防感冒。应该禁烟，酒，不吃辛辣食物。急性疼痛期间口服琥乙红霉素片消炎治疗，含化华素片。严重的输液抗炎治疗。吃些牛黄解毒丸也行，关键是平常一定要多喝水。\n"
     ]
    }
   ],
   "source": [
    "sample = test_data.sample(1) \n",
    "q_text = sample['wordslist_x'].values[0]\n",
    "a_text = sample['wordslist_y'].values[0]\n",
    "print(\"问题：\",''.join(q_text))\n",
    "q_text = ' '.join(q_text)\n",
    "print(\"答案：\",''.join(a_text))"
   ]
  },
  {
   "cell_type": "code",
   "execution_count": 71,
   "metadata": {
    "scrolled": true
   },
   "outputs": [],
   "source": [
    "result, attention_weights = translator([q_text])"
   ]
  },
  {
   "cell_type": "code",
   "execution_count": 72,
   "metadata": {},
   "outputs": [
    {
     "data": {
      "text/plain": [
       "'一般情况下，如果有咽部异物感，有异物感，有可能是咽部有炎症，建议你去医院的耳鼻喉科去检查，如果有炎症，可以去医院的耳鼻喉科就诊，检查，治疗的。'"
      ]
     },
     "execution_count": 72,
     "metadata": {},
     "output_type": "execute_result"
    }
   ],
   "source": [
    "answer_postprocess(result)"
   ]
  },
  {
   "cell_type": "code",
   "execution_count": 69,
   "metadata": {},
   "outputs": [
    {
     "data": {
      "text/plain": [
       "<AxesSubplot: >"
      ]
     },
     "execution_count": 69,
     "metadata": {},
     "output_type": "execute_result"
    },
    {
     "data": {
      "image/png": "[encoded data removed]",
      "text/plain": [
       "<Figure size 1200x500 with 4 Axes>"
      ]
     },
     "metadata": {},
     "output_type": "display_data"
    }
   ],
   "source": [
    "plt.figure(figsize=(12, 5))\n",
    "plt.subplot(1,2,1)\n",
    "sns.heatmap(attention_weights[0][0].numpy().T)\n",
    "plt.subplot(1,2,2)\n",
    "sns.heatmap(attention_weights[0][1].numpy().T)"
   ]
  },
  {
   "cell_type": "code",
   "execution_count": null,
   "metadata": {},
   "outputs": [],
   "source": []
  }
 ],
 "metadata": {
  "kernelspec": {
   "display_name": "Python [conda env:tf26]",
   "language": "python",
   "name": "conda-env-tf26-py"
  },
  "language_info": {
   "codemirror_mode": {
    "name": "ipython",
    "version": 3
   },
   "file_extension": ".py",
   "mimetype": "text/x-python",
   "name": "python",
   "nbconvert_exporter": "python",
   "pygments_lexer": "ipython3",
   "version": "3.9.13"
  }
 },
 "nbformat": 4,
 "nbformat_minor": 4
}
